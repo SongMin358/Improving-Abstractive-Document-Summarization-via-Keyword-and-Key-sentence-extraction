{
 "cells": [
  {
   "cell_type": "code",
   "execution_count": 1,
   "id": "90a0f122",
   "metadata": {},
   "outputs": [],
   "source": [
    "import json"
   ]
  },
  {
   "cell_type": "code",
   "execution_count": 14,
   "id": "509941fe",
   "metadata": {},
   "outputs": [],
   "source": [
    "with open(f'../data/train.json') as f:\n",
    "    data_train = json.load(f)\n",
    "with open(f'../data/validation.json') as f:\n",
    "    data_valid = json.load(f)\n",
    "with open(f'../data/test.json') as f:\n",
    "    data_test = json.load(f)"
   ]
  },
  {
   "cell_type": "markdown",
   "id": "5e36d7d0",
   "metadata": {},
   "source": [
    "## Keywords Length"
   ]
  },
  {
   "cell_type": "code",
   "execution_count": 29,
   "id": "c45d2bfc",
   "metadata": {},
   "outputs": [],
   "source": [
    "train_kw_length = []\n",
    "valid_kw_length = []\n",
    "test_kw_length = []\n",
    "\n",
    "train_data_length = len(data_train)\n",
    "valid_data_length = len(data_valid)\n",
    "test_data_length = len(data_test)\n",
    "\n",
    "for i in range(train_data_length):\n",
    "    train_kw_length.append(len(data_train[i]['key_words']))\n",
    "for i in range(valid_data_length):\n",
    "    valid_kw_length.append(len(data_valid[i]['key_words']))\n",
    "for i in range(test_data_length):\n",
    "    test_kw_length.append(len(data_test[i]['key_words']))"
   ]
  },
  {
   "cell_type": "code",
   "execution_count": 31,
   "id": "1391d640",
   "metadata": {},
   "outputs": [
    {
     "data": {
      "text/plain": [
       "9.66"
      ]
     },
     "execution_count": 31,
     "metadata": {},
     "output_type": "execute_result"
    }
   ],
   "source": [
    "# train 키워드 수 \n",
    "round(sum(train_kw_length)/len(train_kw_length),2)"
   ]
  },
  {
   "cell_type": "code",
   "execution_count": 32,
   "id": "03b58380",
   "metadata": {},
   "outputs": [
    {
     "data": {
      "text/plain": [
       "8.79"
      ]
     },
     "execution_count": 32,
     "metadata": {},
     "output_type": "execute_result"
    }
   ],
   "source": [
    "# valid 키워드 수\n",
    "round(sum(valid_kw_length)/len(valid_kw_length),2)"
   ]
  },
  {
   "cell_type": "code",
   "execution_count": 33,
   "id": "5da19592",
   "metadata": {},
   "outputs": [
    {
     "data": {
      "text/plain": [
       "8.81"
      ]
     },
     "execution_count": 33,
     "metadata": {},
     "output_type": "execute_result"
    }
   ],
   "source": [
    "# test 키워드 수\n",
    "round(sum(test_kw_length)/len(test_kw_length),2)"
   ]
  },
  {
   "cell_type": "code",
   "execution_count": 30,
   "id": "9ed039ea",
   "metadata": {},
   "outputs": [
    {
     "data": {
      "text/plain": [
       "9.49"
      ]
     },
     "execution_count": 30,
     "metadata": {},
     "output_type": "execute_result"
    }
   ],
   "source": [
    "# 전체 평균 키워드 수\n",
    "total_kw_length = (sum(train_kw_length)+sum(valid_kw_length)+sum(test_kw_length))\n",
    "total_data_length = (len(train_kw_length)+len(valid_kw_length)+len(test_kw_length))\n",
    "avg_kw_length = total_kw_length/total_data_length\n",
    "\n",
    "round(avg_kw_length,2)"
   ]
  },
  {
   "cell_type": "markdown",
   "id": "3a65ad6a",
   "metadata": {},
   "source": [
    "## Key Sentence Index"
   ]
  },
  {
   "cell_type": "code",
   "execution_count": 53,
   "id": "2b352028",
   "metadata": {},
   "outputs": [],
   "source": [
    "import spacy"
   ]
  },
  {
   "cell_type": "markdown",
   "id": "1cc95a38",
   "metadata": {},
   "source": [
    "### 값 확인"
   ]
  },
  {
   "cell_type": "code",
   "execution_count": 72,
   "id": "c6e63e24",
   "metadata": {},
   "outputs": [
    {
     "data": {
      "text/plain": [
       "[(CNN) --,\n",
       " A magnitude 7.9 earthquake struck off the coast of central Peru on Wednesday evening, killing 15 people and leaving 70 hurt, President Alan Garcia said on national television.,\n",
       " Pedestrians try to make calls on their cell phones in Lima, Peru, after a strong earthquake Wednesday.,\n",
       " Peru's Panamericana TV put the death toll at 17.,\n",
       " It showed footage of traffic lights in the capital, Lima, swaying with the quake.]"
      ]
     },
     "execution_count": 72,
     "metadata": {},
     "output_type": "execute_result"
    }
   ],
   "source": [
    "nlp = spacy.load('en_core_web_sm')\n",
    "\n",
    "sentences = [i for i in nlp(data_train[0]['document']).sents]\n",
    "sentences[:5]"
   ]
  },
  {
   "cell_type": "code",
   "execution_count": 73,
   "id": "8f22c083",
   "metadata": {},
   "outputs": [
    {
     "data": {
      "text/plain": [
       "spacy.tokens.span.Span"
      ]
     },
     "execution_count": 73,
     "metadata": {},
     "output_type": "execute_result"
    }
   ],
   "source": [
    "type(sentences[0])"
   ]
  },
  {
   "cell_type": "code",
   "execution_count": 71,
   "id": "cc9ddef9",
   "metadata": {},
   "outputs": [
    {
     "data": {
      "text/plain": [
       "str"
      ]
     },
     "execution_count": 71,
     "metadata": {},
     "output_type": "execute_result"
    }
   ],
   "source": [
    "sentences = [str(sent) for sent in sentences]\n",
    "type(sentences[0])"
   ]
  },
  {
   "cell_type": "code",
   "execution_count": 68,
   "id": "af61c528",
   "metadata": {},
   "outputs": [
    {
     "data": {
      "text/plain": [
       "21"
      ]
     },
     "execution_count": 68,
     "metadata": {},
     "output_type": "execute_result"
    }
   ],
   "source": [
    "sentences.index(data_train[0]['key_sentence'])"
   ]
  },
  {
   "cell_type": "code",
   "execution_count": 69,
   "id": "6a0acb43",
   "metadata": {},
   "outputs": [
    {
     "data": {
      "text/plain": [
       "'Meanwhile, tsunami warnings and watches issued after the quake for several Central and South American countries were canceled Wednesday night, as was a tsunami advisory for Hawaii.'"
      ]
     },
     "execution_count": 69,
     "metadata": {},
     "output_type": "execute_result"
    }
   ],
   "source": [
    "sentences[21]"
   ]
  },
  {
   "cell_type": "code",
   "execution_count": 70,
   "id": "3616c5d0",
   "metadata": {},
   "outputs": [
    {
     "data": {
      "text/plain": [
       "'Meanwhile, tsunami warnings and watches issued after the quake for several Central and South American countries were canceled Wednesday night, as was a tsunami advisory for Hawaii.'"
      ]
     },
     "execution_count": 70,
     "metadata": {},
     "output_type": "execute_result"
    }
   ],
   "source": [
    "data_train[0]['key_sentence']"
   ]
  },
  {
   "cell_type": "markdown",
   "id": "f524f3d8",
   "metadata": {},
   "source": [
    "### 전체 적용"
   ]
  },
  {
   "cell_type": "code",
   "execution_count": 74,
   "id": "117d466e",
   "metadata": {},
   "outputs": [],
   "source": [
    "train_ks_idx = []\n",
    "valid_ks_idx = []\n",
    "test_ks_idx = []\n",
    "\n",
    "train_data_length = len(data_train)\n",
    "valid_data_length = len(data_valid)\n",
    "test_data_length = len(data_test)\n",
    "\n",
    "nlp = spacy.load('en_core_web_sm')\n",
    "\n",
    "for i in range(train_data_length):\n",
    "    sentences = [i for i in nlp(data_train[i]['document']).sents] # 문장 단위 나누기\n",
    "    sentences = [str(sent) for sent in sentences] # type 변환 (spacy.tokens.span.Span to str)\n",
    "    idx = sentences.index(data_train[i]['key_sentence']) # index 구하기\n",
    "    train_ks_idx.append(idx)\n",
    "for i in range(valid_data_length):\n",
    "    sentences = [i for i in nlp(data_valid[i]['document']).sents] # 문장 단위 나누기\n",
    "    sentences = [str(sent) for sent in sentences] # type 변환 (spacy.tokens.span.Span to str)\n",
    "    idx = sentences.index(data_valid[i]['key_sentence']) # index 구하기\n",
    "    valid_ks_idx.append(idx)\n",
    "for i in range(test_data_length):\n",
    "    sentences = [i for i in nlp(data_test[i]['document']).sents] # 문장 단위 나누기\n",
    "    sentences = [str(sent) for sent in sentences] # type 변환 (spacy.tokens.span.Span to str)\n",
    "    idx = sentences.index(data_test[i]['key_sentence']) # index 구하기\n",
    "    test_ks_idx.append(idx)"
   ]
  },
  {
   "cell_type": "code",
   "execution_count": 89,
   "id": "0a731d3f",
   "metadata": {},
   "outputs": [
    {
     "data": {
      "text/plain": [
       "11.54"
      ]
     },
     "execution_count": 89,
     "metadata": {},
     "output_type": "execute_result"
    }
   ],
   "source": [
    "# train avg KS index\n",
    "round(sum(train_ks_idx)/len(train_ks_idx),2)"
   ]
  },
  {
   "cell_type": "code",
   "execution_count": 90,
   "id": "ba17938b",
   "metadata": {},
   "outputs": [
    {
     "data": {
      "text/plain": [
       "7.85"
      ]
     },
     "execution_count": 90,
     "metadata": {},
     "output_type": "execute_result"
    }
   ],
   "source": [
    "# valid avg KS index\n",
    "round(sum(valid_ks_idx)/len(valid_ks_idx),2)"
   ]
  },
  {
   "cell_type": "code",
   "execution_count": 91,
   "id": "77030b7a",
   "metadata": {},
   "outputs": [
    {
     "data": {
      "text/plain": [
       "8.2"
      ]
     },
     "execution_count": 91,
     "metadata": {},
     "output_type": "execute_result"
    }
   ],
   "source": [
    "# test avg KS index\n",
    "round(sum(test_ks_idx)/len(test_ks_idx),2)"
   ]
  },
  {
   "cell_type": "code",
   "execution_count": 95,
   "id": "2e22b578",
   "metadata": {},
   "outputs": [
    {
     "data": {
      "text/plain": [
       "10.84"
      ]
     },
     "execution_count": 95,
     "metadata": {},
     "output_type": "execute_result"
    }
   ],
   "source": [
    "# 전체 평균 KS 위치\n",
    "total_ks_idx = (sum(train_ks_idx)+sum(valid_ks_idx)+sum(test_ks_idx))\n",
    "total_data_length = (len(train_ks_idx)+len(valid_ks_idx)+len(test_ks_idx))\n",
    "avg_ks_idx = total_ks_idx/total_data_length\n",
    "\n",
    "round(avg_ks_idx,2)"
   ]
  }
 ],
 "metadata": {
  "kernelspec": {
   "display_name": "Python 3 (ipykernel)",
   "language": "python",
   "name": "python3"
  },
  "language_info": {
   "codemirror_mode": {
    "name": "ipython",
    "version": 3
   },
   "file_extension": ".py",
   "mimetype": "text/x-python",
   "name": "python",
   "nbconvert_exporter": "python",
   "pygments_lexer": "ipython3",
   "version": "3.10.7"
  }
 },
 "nbformat": 4,
 "nbformat_minor": 5
}
