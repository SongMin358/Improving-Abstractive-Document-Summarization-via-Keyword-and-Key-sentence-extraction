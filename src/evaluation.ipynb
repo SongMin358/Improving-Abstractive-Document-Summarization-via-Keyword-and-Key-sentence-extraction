{
 "cells": [
  {
   "cell_type": "code",
   "execution_count": 1,
   "id": "0dd69bcc",
   "metadata": {},
   "outputs": [],
   "source": [
    "import json\n",
    "import evaluate"
   ]
  },
  {
   "cell_type": "markdown",
   "id": "e9b0963a",
   "metadata": {},
   "source": [
    "## NAIVE\n",
    "1. input: document => output: summary\n",
    "    -  rouge 다시 측정할 필요 없음"
   ]
  },
  {
   "cell_type": "code",
   "execution_count": 3,
   "id": "f8cc7a2e",
   "metadata": {},
   "outputs": [],
   "source": [
    "with open(f'../results/NAIVE/results_agg_temp.json') as f:\n",
    "    data_NAIVE = json.load(f)"
   ]
  },
  {
   "cell_type": "code",
   "execution_count": 4,
   "id": "6e421256",
   "metadata": {},
   "outputs": [
    {
     "data": {
      "text/plain": [
       "\"President Barack Obama invited the Super Bowl champion New England Patriots to the White House on Thursday - but couldn't help but crack one last deflategate joke in his speech on the South Lawn.\""
      ]
     },
     "execution_count": 4,
     "metadata": {},
     "output_type": "execute_result"
    }
   ],
   "source": [
    "data_NAIVE['prediction'][0]['pred']"
   ]
  },
  {
   "cell_type": "code",
   "execution_count": 5,
   "id": "8e6f79c4",
   "metadata": {},
   "outputs": [
    {
     "data": {
      "text/plain": [
       "\"Brady cited 'prior family commitments' in bowing out of meeting with Obama.\\nHas been to the White House to meet President George W. Bush for previous Super Bowl wins.\""
      ]
     },
     "execution_count": 5,
     "metadata": {},
     "output_type": "execute_result"
    }
   ],
   "source": [
    "data_NAIVE['prediction'][0]['label']"
   ]
  },
  {
   "cell_type": "code",
   "execution_count": 218,
   "id": "51df87c6",
   "metadata": {},
   "outputs": [
    {
     "data": {
      "text/plain": [
       "{'rouge1': 0.3221336740682571,\n",
       " 'rouge2': 0.14995722760731672,\n",
       " 'rougeL': 0.24013723693875919,\n",
       " 'rougeLsum': 0.2964324905510362}"
      ]
     },
     "execution_count": 218,
     "metadata": {},
     "output_type": "execute_result"
    }
   ],
   "source": [
    "NAIVE_SUM_rouge = data_NAIVE['metric']['rouge']\n",
    "NAIVE_SUM_rouge"
   ]
  },
  {
   "cell_type": "markdown",
   "id": "b35acf50",
   "metadata": {},
   "source": [
    "## KW\n",
    "2. input: document => output: key words, summary"
   ]
  },
  {
   "cell_type": "code",
   "execution_count": 6,
   "id": "55aa1813",
   "metadata": {},
   "outputs": [],
   "source": [
    "with open(f'../results/KW/results_agg_temp.json') as f:\n",
    "    data_KW = json.load(f)"
   ]
  },
  {
   "cell_type": "code",
   "execution_count": 138,
   "id": "59fde5f0",
   "metadata": {},
   "outputs": [
    {
     "data": {
      "text/plain": [
       "[\"british,bioinformatics,sports,sports psychology,sports administration,sports broadcasting,sports media,sports management,sports medicine,sports television,sports marketing,sports social media.sports commentators,sports commentators: sports commentators: 'I'm worried that 11 out of 12 of the 12 footballs used in the AFC Championship game were underinflated'\"]"
      ]
     },
     "execution_count": 138,
     "metadata": {},
     "output_type": "execute_result"
    }
   ],
   "source": [
    "ex_pred = data_KW['prediction'][0]['pred'].replace('Key Words: ', '').split(\"\\nSummary: \")\n",
    "ex_pred"
   ]
  },
  {
   "cell_type": "code",
   "execution_count": 133,
   "id": "9fa5b0cb",
   "metadata": {
    "scrolled": false
   },
   "outputs": [
    {
     "data": {
      "text/plain": [
       "['social media,sports medicine,public health,physiology,biomedical research,bioinformatics,cardiology,neurology,neonatology,nephrology',\n",
       " \"Brady cited 'prior family commitments' in bowing out of meeting with Obama.\\nHas been to the White House to meet President George W. Bush for previous Super Bowl wins.\"]"
      ]
     },
     "execution_count": 133,
     "metadata": {},
     "output_type": "execute_result"
    }
   ],
   "source": [
    "ex_label = data_KW['prediction'][0]['label'].replace('Key Words: ', '').split(\"\\nSummary: \")\n",
    "ex_label"
   ]
  },
  {
   "cell_type": "code",
   "execution_count": 148,
   "id": "9298c9e1",
   "metadata": {},
   "outputs": [],
   "source": [
    "KW_pred = []\n",
    "KW_label = []\n",
    "SUM_pred = []\n",
    "SUM_label = []\n",
    "no_summary = []\n",
    "no_summary_error = []\n",
    "\n",
    "data_length = len(data_KW['prediction'])\n",
    "\n",
    "for i in range(data_length):\n",
    "    ex_pred = data_KW['prediction'][i]['pred'].replace('Key Words: ', '').split(\"\\nSummary: \")\n",
    "    ex_label = data_KW['prediction'][i]['label'].replace('Key Words: ', '').split(\"\\nSummary: \")\n",
    "    try:\n",
    "        KW_pred.append(ex_pred[0])\n",
    "        KW_label.append(ex_label[0])\n",
    "        SUM_pred.append(ex_pred[1]) \n",
    "        SUM_label.append(ex_label[1])\n",
    "    except:\n",
    "        try:\n",
    "            KW_pred.append(ex_pred[0])\n",
    "            KW_label.append(ex_label[0])\n",
    "            no_summary.append(i)\n",
    "            # print(f'Prediction {i} Has No Summary.')\n",
    "        except: \n",
    "            no_summary.append(i)\n",
    "            no_summary_error.append(i)\n",
    "            print(f'Prediction {i} Has No Summary & Key Words Error Occured.')"
   ]
  },
  {
   "cell_type": "code",
   "execution_count": 146,
   "id": "abb842ef",
   "metadata": {
    "collapsed": true
   },
   "outputs": [
    {
     "data": {
      "text/plain": [
       "['suicide prevention,suicide prevention,ergonomics,terrorism prevention,injury prevention,occupational safety,terrorism,terrorism',\n",
       " 'Rebekah Gregory, a 26-year-old Boston police officer, says the verdict means that Dzhokhar Tsarnaev is no longer a bombing suspect.\\nThe judge found him guilty on all 30 counts he faced for the deadly bombings.']"
      ]
     },
     "execution_count": 146,
     "metadata": {},
     "output_type": "execute_result"
    }
   ],
   "source": [
    "data_KW['prediction'][30]['pred'].replace('Key Words: ', '').split(\"\\nSummary: \")"
   ]
  },
  {
   "cell_type": "code",
   "execution_count": 149,
   "id": "aa65e4f9",
   "metadata": {},
   "outputs": [
    {
     "name": "stdout",
     "output_type": "stream",
     "text": [
      "500개 데이터 중 347개 데이터에 요약문이 없습니다.\n"
     ]
    }
   ],
   "source": [
    "pred_length = len(data_KW['prediction'])\n",
    "no_summary_length = len(no_summary)\n",
    "print(f'{pred_length}개 데이터 중 {no_summary_length}개 데이터에 요약문이 없습니다.')"
   ]
  },
  {
   "cell_type": "code",
   "execution_count": 150,
   "id": "5a9d55df",
   "metadata": {},
   "outputs": [
    {
     "data": {
      "text/plain": [
       "True"
      ]
     },
     "execution_count": 150,
     "metadata": {},
     "output_type": "execute_result"
    }
   ],
   "source": [
    "len(KW_pred) == len(KW_label) and len(SUM_pred) == len(SUM_label)"
   ]
  },
  {
   "cell_type": "code",
   "execution_count": 121,
   "id": "2cbe0dd2",
   "metadata": {},
   "outputs": [],
   "source": [
    "rouge = evaluate.load('rouge')"
   ]
  },
  {
   "cell_type": "code",
   "execution_count": 155,
   "id": "7e7c29a1",
   "metadata": {},
   "outputs": [],
   "source": [
    "KW_KW_rouge = rouge.compute(references=KW_label, predictions=KW_pred, use_aggregator=True)\n",
    "KW_SUM_rouge = rouge.compute(references=SUM_label, predictions=SUM_pred, use_aggregator=True)"
   ]
  },
  {
   "cell_type": "code",
   "execution_count": 156,
   "id": "1ac0440a",
   "metadata": {},
   "outputs": [
    {
     "data": {
      "text/plain": [
       "{'rouge1': 0.17629510012898272,\n",
       " 'rouge2': 0.08143378223905254,\n",
       " 'rougeL': 0.13176862424089059,\n",
       " 'rougeLsum': 0.14001160122849832}"
      ]
     },
     "execution_count": 156,
     "metadata": {},
     "output_type": "execute_result"
    }
   ],
   "source": [
    "KW_KW_rouge"
   ]
  },
  {
   "cell_type": "code",
   "execution_count": 157,
   "id": "a3ead7ea",
   "metadata": {},
   "outputs": [
    {
     "data": {
      "text/plain": [
       "{'rouge1': 0.34001328003248266,\n",
       " 'rouge2': 0.14043494910463383,\n",
       " 'rougeL': 0.2475647457321008,\n",
       " 'rougeLsum': 0.3100598127091482}"
      ]
     },
     "execution_count": 157,
     "metadata": {},
     "output_type": "execute_result"
    }
   ],
   "source": [
    "KW_SUM_rouge"
   ]
  },
  {
   "cell_type": "markdown",
   "id": "e80f55c7",
   "metadata": {},
   "source": [
    "## KS\n",
    "3. input: document => output: key sentenece, summary"
   ]
  },
  {
   "cell_type": "code",
   "execution_count": 7,
   "id": "a0f648a1",
   "metadata": {},
   "outputs": [],
   "source": [
    "with open(f'../results/KS/results_agg_temp.json') as f:\n",
    "    data_KS = json.load(f)"
   ]
  },
  {
   "cell_type": "code",
   "execution_count": 39,
   "id": "d4e56ba5",
   "metadata": {},
   "outputs": [
    {
     "data": {
      "text/plain": [
       "[\"President Barack Obama invited the Super Bowl champion New England Patriots to the White House on Thursday - but couldn't help but get one last deflategate joke in.\",\n",
       " \"The president opened his speech on the South Lawn by remarking 'that whole (deflgate) story got blown out of proportion,' referring to an investigation that 11 out of 12 footballs used in the AFC Championship game were under-inflated.\"]"
      ]
     },
     "execution_count": 39,
     "metadata": {},
     "output_type": "execute_result"
    }
   ],
   "source": [
    "ex_pred = data_KS['prediction'][0]['pred'].replace('Key Sentence: ', '').split(\"\\nSummary: \")\n",
    "ex_pred"
   ]
  },
  {
   "cell_type": "code",
   "execution_count": 11,
   "id": "d6c3d822",
   "metadata": {
    "scrolled": false
   },
   "outputs": [
    {
     "data": {
      "text/plain": [
       "['Brady went to the White House to meet President George W Bush after winning the Super Bowl in 2005 and in 2004.',\n",
       " \"Brady cited 'prior family commitments' in bowing out of meeting with Obama.\\nHas been to the White House to meet President George W. Bush for previous Super Bowl wins.\"]"
      ]
     },
     "execution_count": 11,
     "metadata": {},
     "output_type": "execute_result"
    }
   ],
   "source": [
    "ex_label = data_KS['prediction'][0]['label'].replace('Key Sentence: ', '').split(\"\\nSummary: \")\n",
    "ex_label"
   ]
  },
  {
   "cell_type": "code",
   "execution_count": 200,
   "id": "9a345651",
   "metadata": {},
   "outputs": [],
   "source": [
    "KS_pred = []\n",
    "KS_label = []\n",
    "SUM_pred = []\n",
    "SUM_label = []\n",
    "no_summary = []\n",
    "no_summary_error = []\n",
    "\n",
    "data_length = len(data_KS['prediction'])\n",
    "\n",
    "for i in range(data_length):\n",
    "    ex_pred = data_KS['prediction'][i]['pred'].replace('Key Sentence: ', '').split(\"\\nSummary: \")\n",
    "    ex_label = data_KS['prediction'][i]['label'].replace('Key Sentence: ', '').split(\"\\nSummary: \")\n",
    "    try:\n",
    "        KS_pred.append(ex_pred[0])\n",
    "        KS_label.append(ex_label[0])\n",
    "        SUM_pred.append(ex_pred[1]) \n",
    "        SUM_label.append(ex_label[1])\n",
    "    except:\n",
    "        try :\n",
    "            KS_pred.append(ex_pred[0])\n",
    "            KS_label.append(ex_label[0])\n",
    "            no_summary.append(i)\n",
    "            # print(f'Prediction {i} Has No Summary.')\n",
    "        except: \n",
    "            no_summary.append(i)\n",
    "            no_summary_error.append(i)\n",
    "            print(f'Prediction {i} Has No Summary & Key Sentence Error Occured.')"
   ]
  },
  {
   "cell_type": "code",
   "execution_count": 201,
   "id": "c989682a",
   "metadata": {},
   "outputs": [
    {
     "name": "stdout",
     "output_type": "stream",
     "text": [
      "500개 데이터 중 170개 데이터에 요약문이 없습니다.\n"
     ]
    }
   ],
   "source": [
    "pred_length = len(data_KS['prediction'])\n",
    "no_summary_length = len(no_summary)\n",
    "print(f'{pred_length}개 데이터 중 {no_summary_length}개 데이터에 요약문이 없습니다.')"
   ]
  },
  {
   "cell_type": "code",
   "execution_count": 160,
   "id": "cea4cf99",
   "metadata": {},
   "outputs": [
    {
     "data": {
      "text/plain": [
       "True"
      ]
     },
     "execution_count": 160,
     "metadata": {},
     "output_type": "execute_result"
    }
   ],
   "source": [
    "len(KS_pred) == len(KS_label) and len(SUM_pred) == len(SUM_label)"
   ]
  },
  {
   "cell_type": "code",
   "execution_count": 161,
   "id": "33d70a84",
   "metadata": {},
   "outputs": [],
   "source": [
    "rouge = evaluate.load('rouge')"
   ]
  },
  {
   "cell_type": "code",
   "execution_count": 163,
   "id": "0a32e8ec",
   "metadata": {},
   "outputs": [],
   "source": [
    "KS_KS_rouge = rouge.compute(references=KS_label, predictions=KS_pred, use_aggregator=True)\n",
    "KS_SUM_rouge = rouge.compute(references=SUM_label, predictions=SUM_pred, use_aggregator=True)"
   ]
  },
  {
   "cell_type": "code",
   "execution_count": 164,
   "id": "b761cd16",
   "metadata": {},
   "outputs": [
    {
     "data": {
      "text/plain": [
       "{'rouge1': 0.35041163041181833,\n",
       " 'rouge2': 0.2351598805837054,\n",
       " 'rougeL': 0.3126602230179874,\n",
       " 'rougeLsum': 0.316172935782166}"
      ]
     },
     "execution_count": 164,
     "metadata": {},
     "output_type": "execute_result"
    }
   ],
   "source": [
    "KS_KS_rouge"
   ]
  },
  {
   "cell_type": "code",
   "execution_count": 165,
   "id": "7b104fb5",
   "metadata": {},
   "outputs": [
    {
     "data": {
      "text/plain": [
       "{'rouge1': 0.30548366623041623,\n",
       " 'rouge2': 0.1190481098553875,\n",
       " 'rougeL': 0.22240907227493423,\n",
       " 'rougeLsum': 0.2714590795337764}"
      ]
     },
     "execution_count": 165,
     "metadata": {},
     "output_type": "execute_result"
    }
   ],
   "source": [
    "KS_SUM_rouge"
   ]
  },
  {
   "cell_type": "markdown",
   "id": "98484398",
   "metadata": {},
   "source": [
    "## KWKS\n",
    "4. input: document => ouptut: key words, key sentence, summary"
   ]
  },
  {
   "cell_type": "code",
   "execution_count": 202,
   "id": "badecfb6",
   "metadata": {},
   "outputs": [],
   "source": [
    "with open(f'../results/KWKS/results_agg_temp.json') as f:\n",
    "    data_KWKS = json.load(f)"
   ]
  },
  {
   "cell_type": "code",
   "execution_count": 203,
   "id": "061663ac",
   "metadata": {},
   "outputs": [
    {
     "name": "stdout",
     "output_type": "stream",
     "text": [
      "british,bioinformatics,dentistry,dietary medicine,dental,clinical research,clinical,clinical \n",
      " The Super Bowl champion New England Patriots gathered the team's four Super Bowl trophies won under Coach Bill Belichick (right, next to President Barack Obama). \n",
      " Tom Brady won his fourth Super Bowl ring in February - and his first since President Obama took office.\n"
     ]
    }
   ],
   "source": [
    "temp = data_KWKS['prediction'][0]['pred'].replace('Key Words: ', '')\n",
    "KW_KS_border = temp.find('\\nKey Sentence: ')\n",
    "KS_SUM_border = temp.find('\\nSummary: ')\n",
    "print(temp[:KW_KS_border].strip(),'\\n', \n",
    "      temp[KW_KS_border+len('\\nKey Sentence: '):KS_SUM_border].strip(), '\\n', \n",
    "      temp[KS_SUM_border+len('\\nSummary: '):].strip())"
   ]
  },
  {
   "cell_type": "code",
   "execution_count": 205,
   "id": "984923bc",
   "metadata": {},
   "outputs": [],
   "source": [
    "KW_pred = []\n",
    "KW_label = []\n",
    "KS_pred = []\n",
    "KS_label = []\n",
    "SUM_pred = []\n",
    "SUM_label = []\n",
    "no_summary = []\n",
    "\n",
    "data_length = len(data_KWKS['prediction'])\n",
    "\n",
    "for i in range(data_length):\n",
    "    ex_pred = data_KWKS['prediction'][0]['pred'].replace('Key Words: ', '')\n",
    "    ex_label = data_KWKS['prediction'][0]['label'].replace('Key Words: ', '')\n",
    "    \n",
    "    KW_KS_border_pred = ex_pred.find('\\nKey Sentence: ')\n",
    "    KS_SUM_border_pred = ex_pred.find('\\nSummary: ')\n",
    "\n",
    "    KW_KS_border_label = ex_pred.find('\\nKey Sentence: ')\n",
    "    KS_SUM_border_label = ex_pred.find('\\nSummary: ')\n",
    "    \n",
    "    KW_pred.append(ex_pred[:KW_KS_border_pred].strip())\n",
    "    KW_label.append(ex_label[:KW_KS_border_label].strip())\n",
    "\n",
    "    KS_pred.append(ex_pred[KW_KS_border_pred+len('\\nKey Sentence: '):KS_SUM_border_pred].strip())\n",
    "    KS_label.append(ex_label[KW_KS_border_label+len('\\nKey Sentence: '):KS_SUM_border_label].strip())\n",
    "\n",
    "    SUM_pred.append(ex_pred[KS_SUM_border_pred+len('\\nSummary: '):].strip())\n",
    "    SUM_label.append(ex_label[KS_SUM_border_label+len('\\nSummary: '):].strip())"
   ]
  },
  {
   "cell_type": "code",
   "execution_count": 207,
   "id": "a5eaaf7a",
   "metadata": {},
   "outputs": [
    {
     "data": {
      "text/plain": [
       "True"
      ]
     },
     "execution_count": 207,
     "metadata": {},
     "output_type": "execute_result"
    }
   ],
   "source": [
    "len(KW_pred) == len(KW_label) and len(KS_pred) == len(KS_label) and len(SUM_pred) == len(SUM_label)"
   ]
  },
  {
   "cell_type": "code",
   "execution_count": 16,
   "id": "24c85bc6",
   "metadata": {},
   "outputs": [],
   "source": [
    "rouge = evaluate.load('rouge')"
   ]
  },
  {
   "cell_type": "code",
   "execution_count": 211,
   "id": "50bb7f63",
   "metadata": {},
   "outputs": [],
   "source": [
    "KWKS_KW_rouge = rouge.compute(references=KW_label, predictions=KW_pred, use_aggregator=True)\n",
    "KWKS_KS_rouge = rouge.compute(references=KS_label, predictions=KS_pred, use_aggregator=True)\n",
    "KWKS_SUM_rouge = rouge.compute(references=SUM_label, predictions=SUM_pred, use_aggregator=True)"
   ]
  },
  {
   "cell_type": "code",
   "execution_count": 212,
   "id": "664a9e11",
   "metadata": {},
   "outputs": [
    {
     "data": {
      "text/plain": [
       "{'rouge1': 0.28571428571428725,\n",
       " 'rouge2': 0.0,\n",
       " 'rougeL': 0.19047619047618988,\n",
       " 'rougeLsum': 0.19047619047618988}"
      ]
     },
     "execution_count": 212,
     "metadata": {},
     "output_type": "execute_result"
    }
   ],
   "source": [
    "KWKS_KW_rouge"
   ]
  },
  {
   "cell_type": "code",
   "execution_count": 213,
   "id": "48c051ea",
   "metadata": {},
   "outputs": [
    {
     "data": {
      "text/plain": [
       "{'rouge1': 0.2222222222222245,\n",
       " 'rouge2': 0.07692307692307727,\n",
       " 'rougeL': 0.14814814814814767,\n",
       " 'rougeLsum': 0.14814814814814767}"
      ]
     },
     "execution_count": 213,
     "metadata": {},
     "output_type": "execute_result"
    }
   ],
   "source": [
    "KWKS_KS_rouge"
   ]
  },
  {
   "cell_type": "code",
   "execution_count": 214,
   "id": "8827ca1a",
   "metadata": {},
   "outputs": [
    {
     "data": {
      "text/plain": [
       "{'rouge1': 0.1081081081081072,\n",
       " 'rouge2': 0.0,\n",
       " 'rougeL': 0.1081081081081072,\n",
       " 'rougeLsum': 0.1081081081081072}"
      ]
     },
     "execution_count": 214,
     "metadata": {},
     "output_type": "execute_result"
    }
   ],
   "source": [
    "KWKS_SUM_rouge"
   ]
  },
  {
   "cell_type": "markdown",
   "id": "272ddd47",
   "metadata": {},
   "source": [
    "## Evaluation Result"
   ]
  },
  {
   "cell_type": "code",
   "execution_count": 220,
   "id": "6e1f1dbc",
   "metadata": {},
   "outputs": [],
   "source": [
    "import pandas as pd"
   ]
  },
  {
   "cell_type": "code",
   "execution_count": 227,
   "id": "4d4ecee4",
   "metadata": {},
   "outputs": [
    {
     "data": {
      "text/html": [
       "<div>\n",
       "<style scoped>\n",
       "    .dataframe tbody tr th:only-of-type {\n",
       "        vertical-align: middle;\n",
       "    }\n",
       "\n",
       "    .dataframe tbody tr th {\n",
       "        vertical-align: top;\n",
       "    }\n",
       "\n",
       "    .dataframe thead th {\n",
       "        text-align: right;\n",
       "    }\n",
       "</style>\n",
       "<table border=\"1\" class=\"dataframe\">\n",
       "  <thead>\n",
       "    <tr style=\"text-align: right;\">\n",
       "      <th></th>\n",
       "      <th>NAIVE_SUM</th>\n",
       "      <th>KW_KW</th>\n",
       "      <th>KW_SUM</th>\n",
       "      <th>KS_KS</th>\n",
       "      <th>KS_SUM</th>\n",
       "      <th>KWKS_KW</th>\n",
       "      <th>KWKS_KS</th>\n",
       "      <th>KWKS_SUM</th>\n",
       "    </tr>\n",
       "  </thead>\n",
       "  <tbody>\n",
       "    <tr>\n",
       "      <th>rouge1</th>\n",
       "      <td>0.322134</td>\n",
       "      <td>0.176295</td>\n",
       "      <td>0.340013</td>\n",
       "      <td>0.350412</td>\n",
       "      <td>0.305484</td>\n",
       "      <td>0.285714</td>\n",
       "      <td>0.222222</td>\n",
       "      <td>0.108108</td>\n",
       "    </tr>\n",
       "    <tr>\n",
       "      <th>rouge2</th>\n",
       "      <td>0.149957</td>\n",
       "      <td>0.081434</td>\n",
       "      <td>0.140435</td>\n",
       "      <td>0.235160</td>\n",
       "      <td>0.119048</td>\n",
       "      <td>0.000000</td>\n",
       "      <td>0.076923</td>\n",
       "      <td>0.000000</td>\n",
       "    </tr>\n",
       "    <tr>\n",
       "      <th>rougeL</th>\n",
       "      <td>0.240137</td>\n",
       "      <td>0.131769</td>\n",
       "      <td>0.247565</td>\n",
       "      <td>0.312660</td>\n",
       "      <td>0.222409</td>\n",
       "      <td>0.190476</td>\n",
       "      <td>0.148148</td>\n",
       "      <td>0.108108</td>\n",
       "    </tr>\n",
       "    <tr>\n",
       "      <th>rougeLsum</th>\n",
       "      <td>0.296432</td>\n",
       "      <td>0.140012</td>\n",
       "      <td>0.310060</td>\n",
       "      <td>0.316173</td>\n",
       "      <td>0.271459</td>\n",
       "      <td>0.190476</td>\n",
       "      <td>0.148148</td>\n",
       "      <td>0.108108</td>\n",
       "    </tr>\n",
       "  </tbody>\n",
       "</table>\n",
       "</div>"
      ],
      "text/plain": [
       "           NAIVE_SUM     KW_KW    KW_SUM     KS_KS    KS_SUM   KWKS_KW  \\\n",
       "rouge1      0.322134  0.176295  0.340013  0.350412  0.305484  0.285714   \n",
       "rouge2      0.149957  0.081434  0.140435  0.235160  0.119048  0.000000   \n",
       "rougeL      0.240137  0.131769  0.247565  0.312660  0.222409  0.190476   \n",
       "rougeLsum   0.296432  0.140012  0.310060  0.316173  0.271459  0.190476   \n",
       "\n",
       "            KWKS_KS  KWKS_SUM  \n",
       "rouge1     0.222222  0.108108  \n",
       "rouge2     0.076923  0.000000  \n",
       "rougeL     0.148148  0.108108  \n",
       "rougeLsum  0.148148  0.108108  "
      ]
     },
     "execution_count": 227,
     "metadata": {},
     "output_type": "execute_result"
    }
   ],
   "source": [
    "pd.DataFrame({'NAIVE_SUM' : NAIVE_SUM_rouge,\n",
    "             'KW_KW' : KW_KW_rouge, \n",
    "             'KW_SUM' : KW_SUM_rouge, \n",
    "             'KS_KS' : KS_KS_rouge,\n",
    "             'KS_SUM' : KS_SUM_rouge, \n",
    "             'KWKS_KW' : KWKS_KW_rouge, \n",
    "             'KWKS_KS' : KWKS_KS_rouge, \n",
    "             'KWKS_SUM' : KWKS_SUM_rouge})"
   ]
  }
 ],
 "metadata": {
  "kernelspec": {
   "display_name": "Python 3 (ipykernel)",
   "language": "python",
   "name": "python3"
  },
  "language_info": {
   "codemirror_mode": {
    "name": "ipython",
    "version": 3
   },
   "file_extension": ".py",
   "mimetype": "text/x-python",
   "name": "python",
   "nbconvert_exporter": "python",
   "pygments_lexer": "ipython3",
   "version": "3.10.7"
  }
 },
 "nbformat": 4,
 "nbformat_minor": 5
}
