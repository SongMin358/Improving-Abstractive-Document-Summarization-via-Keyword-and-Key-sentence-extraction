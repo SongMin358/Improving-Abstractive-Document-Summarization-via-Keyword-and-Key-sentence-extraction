{
 "cells": [
  {
   "cell_type": "code",
   "execution_count": 1,
   "id": "0dd69bcc",
   "metadata": {},
   "outputs": [],
   "source": [
    "import json\n",
    "import evaluate"
   ]
  },
  {
   "cell_type": "code",
   "execution_count": 2,
   "id": "16bfb786",
   "metadata": {},
   "outputs": [
    {
     "data": {
      "text/plain": [
       "EvaluationModule(name: \"rouge\", module_type: \"metric\", features: [{'predictions': Value(dtype='string', id='sequence'), 'references': Sequence(feature=Value(dtype='string', id='sequence'), length=-1, id=None)}, {'predictions': Value(dtype='string', id='sequence'), 'references': Value(dtype='string', id='sequence')}], usage: \"\"\"\n",
       "Calculates average rouge scores for a list of hypotheses and references\n",
       "Args:\n",
       "    predictions: list of predictions to score. Each prediction\n",
       "        should be a string with tokens separated by spaces.\n",
       "    references: list of reference for each prediction. Each\n",
       "        reference should be a string with tokens separated by spaces.\n",
       "    rouge_types: A list of rouge types to calculate.\n",
       "        Valid names:\n",
       "        `\"rouge{n}\"` (e.g. `\"rouge1\"`, `\"rouge2\"`) where: {n} is the n-gram based scoring,\n",
       "        `\"rougeL\"`: Longest common subsequence based scoring.\n",
       "        `\"rougeLSum\"`: rougeLsum splits text using `\"\n",
       "\"`.\n",
       "        See details in https://github.com/huggingface/datasets/issues/617\n",
       "    use_stemmer: Bool indicating whether Porter stemmer should be used to strip word suffixes.\n",
       "    use_aggregator: Return aggregates if this is set to True\n",
       "Returns:\n",
       "    rouge1: rouge_1 (f1),\n",
       "    rouge2: rouge_2 (f1),\n",
       "    rougeL: rouge_l (f1),\n",
       "    rougeLsum: rouge_lsum (f1)\n",
       "Examples:\n",
       "\n",
       "    >>> rouge = evaluate.load('rouge')\n",
       "    >>> predictions = [\"hello there\", \"general kenobi\"]\n",
       "    >>> references = [\"hello there\", \"general kenobi\"]\n",
       "    >>> results = rouge.compute(predictions=predictions, references=references)\n",
       "    >>> print(results)\n",
       "    {'rouge1': 1.0, 'rouge2': 1.0, 'rougeL': 1.0, 'rougeLsum': 1.0}\n",
       "\"\"\", stored examples: 0)"
      ]
     },
     "execution_count": 2,
     "metadata": {},
     "output_type": "execute_result"
    }
   ],
   "source": [
    "evaluate.load(\"rouge\")"
   ]
  },
  {
   "cell_type": "markdown",
   "id": "e9b0963a",
   "metadata": {},
   "source": [
    "## NAIVE\n",
    "1. input: document => output: summary\n",
    "    -  rouge 다시 측정할 필요 없음"
   ]
  },
  {
   "cell_type": "code",
   "execution_count": 3,
   "id": "f8cc7a2e",
   "metadata": {},
   "outputs": [],
   "source": [
    "with open(f'../results/NAIVE/results_agg_temp.json') as f:\n",
    "    data_NAIVE = json.load(f)"
   ]
  },
  {
   "cell_type": "code",
   "execution_count": 4,
   "id": "6e421256",
   "metadata": {},
   "outputs": [
    {
     "data": {
      "text/plain": [
       "\"President Barack Obama invited the Super Bowl champion New England Patriots to the White House on Thursday - but couldn't help but crack one last deflategate joke in his speech on the South Lawn.\""
      ]
     },
     "execution_count": 4,
     "metadata": {},
     "output_type": "execute_result"
    }
   ],
   "source": [
    "data_NAIVE['prediction'][0]['pred']"
   ]
  },
  {
   "cell_type": "code",
   "execution_count": 5,
   "id": "8e6f79c4",
   "metadata": {},
   "outputs": [
    {
     "data": {
      "text/plain": [
       "\"Brady cited 'prior family commitments' in bowing out of meeting with Obama.\\nHas been to the White House to meet President George W. Bush for previous Super Bowl wins.\""
      ]
     },
     "execution_count": 5,
     "metadata": {},
     "output_type": "execute_result"
    }
   ],
   "source": [
    "data_NAIVE['prediction'][0]['label']"
   ]
  },
  {
   "cell_type": "code",
   "execution_count": 6,
   "id": "51df87c6",
   "metadata": {},
   "outputs": [
    {
     "data": {
      "text/plain": [
       "{'rouge1': 0.3221336740682571,\n",
       " 'rouge2': 0.14995722760731672,\n",
       " 'rougeL': 0.24013723693875919,\n",
       " 'rougeLsum': 0.2964324905510362}"
      ]
     },
     "execution_count": 6,
     "metadata": {},
     "output_type": "execute_result"
    }
   ],
   "source": [
    "NAIVE_SUM_rouge = data_NAIVE['metric']['rouge']\n",
    "NAIVE_SUM_rouge"
   ]
  },
  {
   "cell_type": "markdown",
   "id": "b35acf50",
   "metadata": {},
   "source": [
    "## KW\n",
    "2. input: document => output: key words, summary"
   ]
  },
  {
   "cell_type": "code",
   "execution_count": 7,
   "id": "55aa1813",
   "metadata": {},
   "outputs": [],
   "source": [
    "with open(f'../results/KW/results_agg_temp.json') as f:\n",
    "    data_KW = json.load(f)"
   ]
  },
  {
   "cell_type": "code",
   "execution_count": 8,
   "id": "59fde5f0",
   "metadata": {},
   "outputs": [
    {
     "data": {
      "text/plain": [
       "[\"british,bioinformatics,sports,sports psychology,sports administration,sports broadcasting,sports media,sports management,sports medicine,sports television,sports marketing,sports social media.sports commentators,sports commentators: sports commentators: 'I'm worried that 11 out of 12 of the 12 footballs used in the AFC Championship game were underinflated'\"]"
      ]
     },
     "execution_count": 8,
     "metadata": {},
     "output_type": "execute_result"
    }
   ],
   "source": [
    "data_KW['prediction'][0]['pred'].replace('Key Words: ', '').split(\"\\nSummary: \")"
   ]
  },
  {
   "cell_type": "code",
   "execution_count": 9,
   "id": "9fa5b0cb",
   "metadata": {
    "scrolled": false
   },
   "outputs": [
    {
     "data": {
      "text/plain": [
       "['social media,sports medicine,public health,physiology,biomedical research,bioinformatics,cardiology,neurology,neonatology,nephrology',\n",
       " \"Brady cited 'prior family commitments' in bowing out of meeting with Obama.\\nHas been to the White House to meet President George W. Bush for previous Super Bowl wins.\"]"
      ]
     },
     "execution_count": 9,
     "metadata": {},
     "output_type": "execute_result"
    }
   ],
   "source": [
    "data_KW['prediction'][0]['label'].replace('Key Words: ', '').split(\"\\nSummary: \")"
   ]
  },
  {
   "cell_type": "code",
   "execution_count": 10,
   "id": "9298c9e1",
   "metadata": {},
   "outputs": [],
   "source": [
    "KW_KW_pred = []\n",
    "KW_KW_label = []\n",
    "KW_SUM_pred = []\n",
    "KW_SUM_label = []\n",
    "KW_no_summary = []\n",
    "KW_no_summary_error = []\n",
    "\n",
    "data_length = len(data_KW['prediction'])\n",
    "\n",
    "for i in range(data_length):\n",
    "    ex_pred = data_KW['prediction'][i]['pred'].replace('Key Words: ', '').split(\"\\nSummary: \")\n",
    "    ex_label = data_KW['prediction'][i]['label'].replace('Key Words: ', '').split(\"\\nSummary: \")\n",
    "    try:\n",
    "        KW_KW_pred.append(ex_pred[0])\n",
    "        KW_KW_label.append(ex_label[0])\n",
    "        KW_SUM_pred.append(ex_pred[1]) \n",
    "        KW_SUM_label.append(ex_label[1])\n",
    "    except:\n",
    "        try:\n",
    "            KW_KW_pred.append(ex_pred[0])\n",
    "            KW_KW_label.append(ex_label[0])\n",
    "            KW_no_summary.append(i)\n",
    "            # print(f'Prediction {i} Has No Summary.')\n",
    "        except: \n",
    "            KW_no_summary.append(i)\n",
    "            KW_no_summary_error.append(i)\n",
    "            print(f'Prediction {i} Has No Summary & Key Words Error Occured.')"
   ]
  },
  {
   "cell_type": "code",
   "execution_count": 11,
   "id": "aa65e4f9",
   "metadata": {},
   "outputs": [
    {
     "name": "stdout",
     "output_type": "stream",
     "text": [
      "500개 데이터 중 347개 데이터에 요약문이 없습니다.\n"
     ]
    }
   ],
   "source": [
    "KW_pred_length = len(data_KW['prediction'])\n",
    "KW_no_summary_length = len(KW_no_summary)\n",
    "print(f'{KW_pred_length}개 데이터 중 {KW_no_summary_length}개 데이터에 요약문이 없습니다.')"
   ]
  },
  {
   "cell_type": "code",
   "execution_count": 12,
   "id": "5a9d55df",
   "metadata": {},
   "outputs": [
    {
     "data": {
      "text/plain": [
       "True"
      ]
     },
     "execution_count": 12,
     "metadata": {},
     "output_type": "execute_result"
    }
   ],
   "source": [
    "len(KW_KW_pred) == len(KW_KW_label) and len(KW_SUM_pred) == len(KW_SUM_label)"
   ]
  },
  {
   "cell_type": "code",
   "execution_count": 13,
   "id": "2cbe0dd2",
   "metadata": {},
   "outputs": [],
   "source": [
    "rouge = evaluate.load('rouge')"
   ]
  },
  {
   "cell_type": "code",
   "execution_count": 14,
   "id": "7e7c29a1",
   "metadata": {},
   "outputs": [],
   "source": [
    "KW_KW_rouge = rouge.compute(references=KW_KW_label, predictions=KW_KW_pred, use_aggregator=True)\n",
    "KW_SUM_rouge = rouge.compute(references=KW_SUM_label, predictions=KW_SUM_pred, use_aggregator=True)"
   ]
  },
  {
   "cell_type": "code",
   "execution_count": 15,
   "id": "1ac0440a",
   "metadata": {},
   "outputs": [
    {
     "data": {
      "text/plain": [
       "{'rouge1': 0.17594659025656523,\n",
       " 'rouge2': 0.08139417571716331,\n",
       " 'rougeL': 0.13176789234658098,\n",
       " 'rougeLsum': 0.13991956279206144}"
      ]
     },
     "execution_count": 15,
     "metadata": {},
     "output_type": "execute_result"
    }
   ],
   "source": [
    "KW_KW_rouge"
   ]
  },
  {
   "cell_type": "code",
   "execution_count": 16,
   "id": "a3ead7ea",
   "metadata": {},
   "outputs": [
    {
     "data": {
      "text/plain": [
       "{'rouge1': 0.3398563544399322,\n",
       " 'rouge2': 0.140142525788538,\n",
       " 'rougeL': 0.24744224570609918,\n",
       " 'rougeLsum': 0.310109314068133}"
      ]
     },
     "execution_count": 16,
     "metadata": {},
     "output_type": "execute_result"
    }
   ],
   "source": [
    "KW_SUM_rouge"
   ]
  },
  {
   "cell_type": "code",
   "execution_count": 17,
   "id": "c2345901",
   "metadata": {},
   "outputs": [],
   "source": [
    "KW_KW_rouge_ex = rouge.compute(references=KW_KW_label, predictions=KW_KW_pred, use_aggregator=False)\n",
    "KW_SUM_rouge_ex = rouge.compute(references=KW_SUM_label, predictions=KW_SUM_pred, use_aggregator=False)"
   ]
  },
  {
   "cell_type": "markdown",
   "id": "e80f55c7",
   "metadata": {},
   "source": [
    "## KS\n",
    "3. input: document => output: key sentenece, summary"
   ]
  },
  {
   "cell_type": "code",
   "execution_count": 18,
   "id": "a0f648a1",
   "metadata": {},
   "outputs": [],
   "source": [
    "with open(f'../results/KS/results_agg_temp.json') as f:\n",
    "    data_KS = json.load(f)"
   ]
  },
  {
   "cell_type": "code",
   "execution_count": 19,
   "id": "d4e56ba5",
   "metadata": {},
   "outputs": [
    {
     "data": {
      "text/plain": [
       "[\"President Barack Obama invited the Super Bowl champion New England Patriots to the White House on Thursday - but couldn't help but get one last deflategate joke in.\",\n",
       " \"The president opened his speech on the South Lawn by remarking 'that whole (deflgate) story got blown out of proportion,' referring to an investigation that 11 out of 12 footballs used in the AFC Championship game were under-inflated.\"]"
      ]
     },
     "execution_count": 19,
     "metadata": {},
     "output_type": "execute_result"
    }
   ],
   "source": [
    "data_KS['prediction'][0]['pred'].replace('Key Sentence: ', '').split(\"\\nSummary: \")"
   ]
  },
  {
   "cell_type": "code",
   "execution_count": 20,
   "id": "d6c3d822",
   "metadata": {
    "scrolled": false
   },
   "outputs": [
    {
     "data": {
      "text/plain": [
       "['Brady went to the White House to meet President George W Bush after winning the Super Bowl in 2005 and in 2004.',\n",
       " \"Brady cited 'prior family commitments' in bowing out of meeting with Obama.\\nHas been to the White House to meet President George W. Bush for previous Super Bowl wins.\"]"
      ]
     },
     "execution_count": 20,
     "metadata": {},
     "output_type": "execute_result"
    }
   ],
   "source": [
    "data_KS['prediction'][0]['label'].replace('Key Sentence: ', '').split(\"\\nSummary: \")"
   ]
  },
  {
   "cell_type": "code",
   "execution_count": 21,
   "id": "9a345651",
   "metadata": {},
   "outputs": [],
   "source": [
    "KS_KS_pred = []\n",
    "KS_KS_label = []\n",
    "KS_SUM_pred = []\n",
    "KS_SUM_label = []\n",
    "KS_no_summary = []\n",
    "KS_no_summary_error = []\n",
    "\n",
    "data_length = len(data_KS['prediction'])\n",
    "\n",
    "for i in range(data_length):\n",
    "    ex_pred = data_KS['prediction'][i]['pred'].replace('Key Sentence: ', '').split(\"\\nSummary: \")\n",
    "    ex_label = data_KS['prediction'][i]['label'].replace('Key Sentence: ', '').split(\"\\nSummary: \")\n",
    "    try:\n",
    "        KS_KS_pred.append(ex_pred[0])\n",
    "        KS_KS_label.append(ex_label[0])\n",
    "        KS_SUM_pred.append(ex_pred[1]) \n",
    "        KS_SUM_label.append(ex_label[1])\n",
    "    except:\n",
    "        try :\n",
    "            KS_KS_pred.append(ex_pred[0])\n",
    "            KS_KS_label.append(ex_label[0])\n",
    "            KS_no_summary.append(i)\n",
    "            # print(f'Prediction {i} Has No Summary.')\n",
    "        except: \n",
    "            KS_no_summary.append(i)\n",
    "            KS_no_summary_error.append(i)\n",
    "            print(f'Prediction {i} Has No Summary & Key Sentence Error Occured.')"
   ]
  },
  {
   "cell_type": "code",
   "execution_count": 22,
   "id": "c989682a",
   "metadata": {},
   "outputs": [
    {
     "name": "stdout",
     "output_type": "stream",
     "text": [
      "500개 데이터 중 170개 데이터에 요약문이 없습니다.\n"
     ]
    }
   ],
   "source": [
    "KS_pred_length = len(data_KS['prediction'])\n",
    "KS_no_summary_length = len(KS_no_summary)\n",
    "print(f'{KS_pred_length}개 데이터 중 {KS_no_summary_length}개 데이터에 요약문이 없습니다.')"
   ]
  },
  {
   "cell_type": "code",
   "execution_count": 23,
   "id": "cea4cf99",
   "metadata": {},
   "outputs": [
    {
     "data": {
      "text/plain": [
       "True"
      ]
     },
     "execution_count": 23,
     "metadata": {},
     "output_type": "execute_result"
    }
   ],
   "source": [
    "len(KS_KS_pred) == len(KS_KS_label) and len(KS_SUM_pred) == len(KS_SUM_label)"
   ]
  },
  {
   "cell_type": "code",
   "execution_count": 24,
   "id": "33d70a84",
   "metadata": {},
   "outputs": [],
   "source": [
    "rouge = evaluate.load('rouge')"
   ]
  },
  {
   "cell_type": "code",
   "execution_count": 25,
   "id": "0a32e8ec",
   "metadata": {},
   "outputs": [],
   "source": [
    "KS_KS_rouge = rouge.compute(references=KS_KS_label, predictions=KS_KS_pred, use_aggregator=True)\n",
    "KS_SUM_rouge = rouge.compute(references=KS_SUM_label, predictions=KS_SUM_pred, use_aggregator=True)"
   ]
  },
  {
   "cell_type": "code",
   "execution_count": 26,
   "id": "b761cd16",
   "metadata": {},
   "outputs": [
    {
     "data": {
      "text/plain": [
       "{'rouge1': 0.35016004828349173,\n",
       " 'rouge2': 0.23433034818722726,\n",
       " 'rougeL': 0.3130680755838632,\n",
       " 'rougeLsum': 0.3150138318178245}"
      ]
     },
     "execution_count": 26,
     "metadata": {},
     "output_type": "execute_result"
    }
   ],
   "source": [
    "KS_KS_rouge"
   ]
  },
  {
   "cell_type": "code",
   "execution_count": 27,
   "id": "7b104fb5",
   "metadata": {
    "scrolled": true
   },
   "outputs": [
    {
     "data": {
      "text/plain": [
       "{'rouge1': 0.3061292159414556,\n",
       " 'rouge2': 0.11942117190814014,\n",
       " 'rougeL': 0.2227569231342712,\n",
       " 'rougeLsum': 0.2714600595357948}"
      ]
     },
     "execution_count": 27,
     "metadata": {},
     "output_type": "execute_result"
    }
   ],
   "source": [
    "KS_SUM_rouge"
   ]
  },
  {
   "cell_type": "code",
   "execution_count": 28,
   "id": "0170202e",
   "metadata": {},
   "outputs": [],
   "source": [
    "KS_KS_rouge_ex = rouge.compute(references=KS_KS_label, predictions=KS_KS_pred, use_aggregator=False)\n",
    "KS_SUM_rouge_ex = rouge.compute(references=KS_SUM_label, predictions=KS_SUM_pred, use_aggregator=False)"
   ]
  },
  {
   "cell_type": "markdown",
   "id": "98484398",
   "metadata": {},
   "source": [
    "## KWKS\n",
    "4. input: document => ouptut: key words, key sentence, summary"
   ]
  },
  {
   "cell_type": "code",
   "execution_count": 29,
   "id": "badecfb6",
   "metadata": {},
   "outputs": [],
   "source": [
    "with open(f'../results/KWKS/results_agg_temp.json') as f:\n",
    "    data_KWKS = json.load(f)"
   ]
  },
  {
   "cell_type": "code",
   "execution_count": 30,
   "id": "061663ac",
   "metadata": {},
   "outputs": [
    {
     "name": "stdout",
     "output_type": "stream",
     "text": [
      "british,bioinformatics,dentistry,dietary medicine,dental,clinical research,clinical,clinical \n",
      " The Super Bowl champion New England Patriots gathered the team's four Super Bowl trophies won under Coach Bill Belichick (right, next to President Barack Obama). \n",
      " Tom Brady won his fourth Super Bowl ring in February - and his first since President Obama took office.\n"
     ]
    }
   ],
   "source": [
    "temp = data_KWKS['prediction'][0]['pred'].replace('Key Words: ', '')\n",
    "KW_KS_border = temp.find('\\nKey Sentence: ')\n",
    "KS_SUM_border = temp.find('\\nSummary: ')\n",
    "print(temp[:KW_KS_border].strip(),'\\n', \n",
    "      temp[KW_KS_border+len('\\nKey Sentence: '):KS_SUM_border].strip(), '\\n', \n",
    "      temp[KS_SUM_border+len('\\nSummary: '):].strip())"
   ]
  },
  {
   "cell_type": "code",
   "execution_count": 61,
   "id": "984923bc",
   "metadata": {},
   "outputs": [],
   "source": [
    "KWKS_KW_pred = []\n",
    "KWKS_KW_label = []\n",
    "KWKS_KS_pred = []\n",
    "KWKS_KS_label = []\n",
    "KWKS_SUM_pred = []\n",
    "KWKS_SUM_label = []\n",
    "KWKS_no_summary = []\n",
    "\n",
    "data_length = len(data_KWKS['prediction'])\n",
    "\n",
    "for i in range(data_length):\n",
    "    ex_pred = data_KWKS['prediction'][i]['pred'].replace('Key Words: ', '')\n",
    "    ex_label = data_KWKS['prediction'][i]['label'].replace('Key Words: ', '')\n",
    "    \n",
    "    KW_KS_border_pred = ex_pred.find('\\nKey Sentence: ')\n",
    "    KS_SUM_border_pred = ex_pred.find('\\nSummary: ')\n",
    "\n",
    "    KW_KS_border_label = ex_pred.find('\\nKey Sentence: ')\n",
    "    KS_SUM_border_label = ex_pred.find('\\nSummary: ')\n",
    "    \n",
    "    KWKS_KW_pred.append(ex_pred[:KW_KS_border_pred].strip())\n",
    "    KWKS_KW_label.append(ex_label[:KW_KS_border_label].strip())\n",
    "\n",
    "    KWKS_KS_pred.append(ex_pred[KW_KS_border_pred+len('\\nKey Sentence: '):KS_SUM_border_pred].strip())\n",
    "    KWKS_KS_label.append(ex_label[KW_KS_border_label+len('\\nKey Sentence: '):KS_SUM_border_label].strip())\n",
    "\n",
    "    KWKS_SUM_pred.append(ex_pred[KS_SUM_border_pred+len('\\nSummary: '):].strip())\n",
    "    KWKS_SUM_label.append(ex_label[KS_SUM_border_label+len('\\nSummary: '):].strip())"
   ]
  },
  {
   "cell_type": "code",
   "execution_count": 62,
   "id": "a5eaaf7a",
   "metadata": {},
   "outputs": [
    {
     "data": {
      "text/plain": [
       "True"
      ]
     },
     "execution_count": 62,
     "metadata": {},
     "output_type": "execute_result"
    }
   ],
   "source": [
    "len(KWKS_KW_pred) == len(KWKS_KW_label) and len(KWKS_KS_pred) == len(KWKS_KS_label) and len(KWKS_SUM_pred) == len(KWKS_SUM_label)"
   ]
  },
  {
   "cell_type": "code",
   "execution_count": 63,
   "id": "24c85bc6",
   "metadata": {},
   "outputs": [],
   "source": [
    "rouge = evaluate.load('rouge')"
   ]
  },
  {
   "cell_type": "code",
   "execution_count": 64,
   "id": "50bb7f63",
   "metadata": {},
   "outputs": [],
   "source": [
    "KWKS_KW_rouge = rouge.compute(references=KWKS_KW_label, predictions=KWKS_KW_pred, use_aggregator=True)\n",
    "KWKS_KS_rouge = rouge.compute(references=KWKS_KS_label, predictions=KWKS_KS_pred, use_aggregator=True)\n",
    "KWKS_SUM_rouge = rouge.compute(references=KWKS_SUM_label, predictions=KWKS_SUM_pred, use_aggregator=True)"
   ]
  },
  {
   "cell_type": "code",
   "execution_count": 65,
   "id": "664a9e11",
   "metadata": {},
   "outputs": [
    {
     "data": {
      "text/plain": [
       "{'rouge1': 0.2578916722541682,\n",
       " 'rouge2': 0.13666974525311157,\n",
       " 'rougeL': 0.19523542322170873,\n",
       " 'rougeLsum': 0.217793445478532}"
      ]
     },
     "execution_count": 65,
     "metadata": {},
     "output_type": "execute_result"
    }
   ],
   "source": [
    "KWKS_KW_rouge"
   ]
  },
  {
   "cell_type": "code",
   "execution_count": 66,
   "id": "48c051ea",
   "metadata": {},
   "outputs": [
    {
     "data": {
      "text/plain": [
       "{'rouge1': 0.20929023673258262,\n",
       " 'rouge2': 0.11003549853568702,\n",
       " 'rougeL': 0.1639255958063478,\n",
       " 'rougeLsum': 0.184723365426793}"
      ]
     },
     "execution_count": 66,
     "metadata": {},
     "output_type": "execute_result"
    }
   ],
   "source": [
    "KWKS_KS_rouge"
   ]
  },
  {
   "cell_type": "code",
   "execution_count": 67,
   "id": "8827ca1a",
   "metadata": {},
   "outputs": [
    {
     "data": {
      "text/plain": [
       "{'rouge1': 0.18176518591363117,\n",
       " 'rouge2': 0.09462037611688978,\n",
       " 'rougeL': 0.13696156247397845,\n",
       " 'rougeLsum': 0.1655366689500105}"
      ]
     },
     "execution_count": 67,
     "metadata": {},
     "output_type": "execute_result"
    }
   ],
   "source": [
    "KWKS_SUM_rouge"
   ]
  },
  {
   "cell_type": "code",
   "execution_count": 68,
   "id": "b628a6ff",
   "metadata": {},
   "outputs": [],
   "source": [
    "KWKS_KW_rouge_ex = rouge.compute(references=KWKS_KW_label, predictions=KWKS_KW_pred, use_aggregator=False)\n",
    "KWKS_KS_rouge_ex = rouge.compute(references=KWKS_KS_label, predictions=KWKS_KS_pred, use_aggregator=False)\n",
    "KWKS_SUM_rouge_ex = rouge.compute(references=KWKS_SUM_label, predictions=KWKS_SUM_pred, use_aggregator=False)"
   ]
  },
  {
   "cell_type": "markdown",
   "id": "272ddd47",
   "metadata": {},
   "source": [
    "## Evaluation Result"
   ]
  },
  {
   "cell_type": "code",
   "execution_count": 39,
   "id": "6e1f1dbc",
   "metadata": {},
   "outputs": [],
   "source": [
    "import pandas as pd"
   ]
  },
  {
   "cell_type": "code",
   "execution_count": 69,
   "id": "4d4ecee4",
   "metadata": {},
   "outputs": [
    {
     "data": {
      "text/html": [
       "<div>\n",
       "<style scoped>\n",
       "    .dataframe tbody tr th:only-of-type {\n",
       "        vertical-align: middle;\n",
       "    }\n",
       "\n",
       "    .dataframe tbody tr th {\n",
       "        vertical-align: top;\n",
       "    }\n",
       "\n",
       "    .dataframe thead th {\n",
       "        text-align: right;\n",
       "    }\n",
       "</style>\n",
       "<table border=\"1\" class=\"dataframe\">\n",
       "  <thead>\n",
       "    <tr style=\"text-align: right;\">\n",
       "      <th></th>\n",
       "      <th>NAIVE_SUM</th>\n",
       "      <th>KW_KW</th>\n",
       "      <th>KW_SUM</th>\n",
       "      <th>KS_KS</th>\n",
       "      <th>KS_SUM</th>\n",
       "      <th>KWKS_KW</th>\n",
       "      <th>KWKS_KS</th>\n",
       "      <th>KWKS_SUM</th>\n",
       "    </tr>\n",
       "  </thead>\n",
       "  <tbody>\n",
       "    <tr>\n",
       "      <th>rouge1</th>\n",
       "      <td>0.322134</td>\n",
       "      <td>0.175947</td>\n",
       "      <td>0.339856</td>\n",
       "      <td>0.350160</td>\n",
       "      <td>0.306129</td>\n",
       "      <td>0.257892</td>\n",
       "      <td>0.209290</td>\n",
       "      <td>0.181765</td>\n",
       "    </tr>\n",
       "    <tr>\n",
       "      <th>rouge2</th>\n",
       "      <td>0.149957</td>\n",
       "      <td>0.081394</td>\n",
       "      <td>0.140143</td>\n",
       "      <td>0.234330</td>\n",
       "      <td>0.119421</td>\n",
       "      <td>0.136670</td>\n",
       "      <td>0.110035</td>\n",
       "      <td>0.094620</td>\n",
       "    </tr>\n",
       "    <tr>\n",
       "      <th>rougeL</th>\n",
       "      <td>0.240137</td>\n",
       "      <td>0.131768</td>\n",
       "      <td>0.247442</td>\n",
       "      <td>0.313068</td>\n",
       "      <td>0.222757</td>\n",
       "      <td>0.195235</td>\n",
       "      <td>0.163926</td>\n",
       "      <td>0.136962</td>\n",
       "    </tr>\n",
       "    <tr>\n",
       "      <th>rougeLsum</th>\n",
       "      <td>0.296432</td>\n",
       "      <td>0.139920</td>\n",
       "      <td>0.310109</td>\n",
       "      <td>0.315014</td>\n",
       "      <td>0.271460</td>\n",
       "      <td>0.217793</td>\n",
       "      <td>0.184723</td>\n",
       "      <td>0.165537</td>\n",
       "    </tr>\n",
       "  </tbody>\n",
       "</table>\n",
       "</div>"
      ],
      "text/plain": [
       "           NAIVE_SUM     KW_KW    KW_SUM     KS_KS    KS_SUM   KWKS_KW  \\\n",
       "rouge1      0.322134  0.175947  0.339856  0.350160  0.306129  0.257892   \n",
       "rouge2      0.149957  0.081394  0.140143  0.234330  0.119421  0.136670   \n",
       "rougeL      0.240137  0.131768  0.247442  0.313068  0.222757  0.195235   \n",
       "rougeLsum   0.296432  0.139920  0.310109  0.315014  0.271460  0.217793   \n",
       "\n",
       "            KWKS_KS  KWKS_SUM  \n",
       "rouge1     0.209290  0.181765  \n",
       "rouge2     0.110035  0.094620  \n",
       "rougeL     0.163926  0.136962  \n",
       "rougeLsum  0.184723  0.165537  "
      ]
     },
     "execution_count": 69,
     "metadata": {},
     "output_type": "execute_result"
    }
   ],
   "source": [
    "pd.DataFrame({'NAIVE_SUM' : NAIVE_SUM_rouge,\n",
    "             'KW_KW' : KW_KW_rouge, \n",
    "             'KW_SUM' : KW_SUM_rouge, \n",
    "             'KS_KS' : KS_KS_rouge,\n",
    "             'KS_SUM' : KS_SUM_rouge, \n",
    "             'KWKS_KW' : KWKS_KW_rouge, \n",
    "             'KWKS_KS' : KWKS_KS_rouge, \n",
    "             'KWKS_SUM' : KWKS_SUM_rouge})"
   ]
  },
  {
   "cell_type": "code",
   "execution_count": 70,
   "id": "1731fcd0",
   "metadata": {},
   "outputs": [
    {
     "data": {
      "text/html": [
       "<div>\n",
       "<style scoped>\n",
       "    .dataframe tbody tr th:only-of-type {\n",
       "        vertical-align: middle;\n",
       "    }\n",
       "\n",
       "    .dataframe tbody tr th {\n",
       "        vertical-align: top;\n",
       "    }\n",
       "\n",
       "    .dataframe thead th {\n",
       "        text-align: right;\n",
       "    }\n",
       "</style>\n",
       "<table border=\"1\" class=\"dataframe\">\n",
       "  <thead>\n",
       "    <tr style=\"text-align: right;\">\n",
       "      <th></th>\n",
       "      <th>NAIVE_SUM</th>\n",
       "      <th>KW_SUM</th>\n",
       "      <th>KS_SUM</th>\n",
       "      <th>KWKS_SUM</th>\n",
       "    </tr>\n",
       "  </thead>\n",
       "  <tbody>\n",
       "    <tr>\n",
       "      <th>rouge1</th>\n",
       "      <td>0.322134</td>\n",
       "      <td>0.339856</td>\n",
       "      <td>0.306129</td>\n",
       "      <td>0.181765</td>\n",
       "    </tr>\n",
       "    <tr>\n",
       "      <th>rouge2</th>\n",
       "      <td>0.149957</td>\n",
       "      <td>0.140143</td>\n",
       "      <td>0.119421</td>\n",
       "      <td>0.094620</td>\n",
       "    </tr>\n",
       "    <tr>\n",
       "      <th>rougeL</th>\n",
       "      <td>0.240137</td>\n",
       "      <td>0.247442</td>\n",
       "      <td>0.222757</td>\n",
       "      <td>0.136962</td>\n",
       "    </tr>\n",
       "    <tr>\n",
       "      <th>rougeLsum</th>\n",
       "      <td>0.296432</td>\n",
       "      <td>0.310109</td>\n",
       "      <td>0.271460</td>\n",
       "      <td>0.165537</td>\n",
       "    </tr>\n",
       "  </tbody>\n",
       "</table>\n",
       "</div>"
      ],
      "text/plain": [
       "           NAIVE_SUM    KW_SUM    KS_SUM  KWKS_SUM\n",
       "rouge1      0.322134  0.339856  0.306129  0.181765\n",
       "rouge2      0.149957  0.140143  0.119421  0.094620\n",
       "rougeL      0.240137  0.247442  0.222757  0.136962\n",
       "rougeLsum   0.296432  0.310109  0.271460  0.165537"
      ]
     },
     "execution_count": 70,
     "metadata": {},
     "output_type": "execute_result"
    }
   ],
   "source": [
    "pd.DataFrame({'NAIVE_SUM' : NAIVE_SUM_rouge,\n",
    "             'KW_SUM' : KW_SUM_rouge, \n",
    "             'KS_SUM' : KS_SUM_rouge, \n",
    "             'KWKS_SUM' : KWKS_SUM_rouge})"
   ]
  }
 ],
 "metadata": {
  "kernelspec": {
   "display_name": "Python 3 (ipykernel)",
   "language": "python",
   "name": "python3"
  },
  "language_info": {
   "codemirror_mode": {
    "name": "ipython",
    "version": 3
   },
   "file_extension": ".py",
   "mimetype": "text/x-python",
   "name": "python",
   "nbconvert_exporter": "python",
   "pygments_lexer": "ipython3",
   "version": "3.10.7"
  }
 },
 "nbformat": 4,
 "nbformat_minor": 5
}
