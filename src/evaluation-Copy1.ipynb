{
 "cells": [
  {
   "cell_type": "code",
   "execution_count": 1,
   "id": "0dd69bcc",
   "metadata": {},
   "outputs": [],
   "source": [
    "import json\n",
    "import evaluate"
   ]
  },
  {
   "cell_type": "code",
   "execution_count": 2,
   "id": "16bfb786",
   "metadata": {},
   "outputs": [
    {
     "data": {
      "text/plain": [
       "EvaluationModule(name: \"rouge\", module_type: \"metric\", features: [{'predictions': Value(dtype='string', id='sequence'), 'references': Sequence(feature=Value(dtype='string', id='sequence'), length=-1, id=None)}, {'predictions': Value(dtype='string', id='sequence'), 'references': Value(dtype='string', id='sequence')}], usage: \"\"\"\n",
       "Calculates average rouge scores for a list of hypotheses and references\n",
       "Args:\n",
       "    predictions: list of predictions to score. Each prediction\n",
       "        should be a string with tokens separated by spaces.\n",
       "    references: list of reference for each prediction. Each\n",
       "        reference should be a string with tokens separated by spaces.\n",
       "    rouge_types: A list of rouge types to calculate.\n",
       "        Valid names:\n",
       "        `\"rouge{n}\"` (e.g. `\"rouge1\"`, `\"rouge2\"`) where: {n} is the n-gram based scoring,\n",
       "        `\"rougeL\"`: Longest common subsequence based scoring.\n",
       "        `\"rougeLSum\"`: rougeLsum splits text using `\"\n",
       "\"`.\n",
       "        See details in https://github.com/huggingface/datasets/issues/617\n",
       "    use_stemmer: Bool indicating whether Porter stemmer should be used to strip word suffixes.\n",
       "    use_aggregator: Return aggregates if this is set to True\n",
       "Returns:\n",
       "    rouge1: rouge_1 (f1),\n",
       "    rouge2: rouge_2 (f1),\n",
       "    rougeL: rouge_l (f1),\n",
       "    rougeLsum: rouge_lsum (f1)\n",
       "Examples:\n",
       "\n",
       "    >>> rouge = evaluate.load('rouge')\n",
       "    >>> predictions = [\"hello there\", \"general kenobi\"]\n",
       "    >>> references = [\"hello there\", \"general kenobi\"]\n",
       "    >>> results = rouge.compute(predictions=predictions, references=references)\n",
       "    >>> print(results)\n",
       "    {'rouge1': 1.0, 'rouge2': 1.0, 'rougeL': 1.0, 'rougeLsum': 1.0}\n",
       "\"\"\", stored examples: 0)"
      ]
     },
     "execution_count": 2,
     "metadata": {},
     "output_type": "execute_result"
    }
   ],
   "source": [
    "evaluate.load(\"rouge\")"
   ]
  },
  {
   "cell_type": "markdown",
   "id": "e9b0963a",
   "metadata": {},
   "source": [
    "## NAIVE\n",
    "1. input: document => output: summary\n",
    "    -  rouge 다시 측정할 필요 없음"
   ]
  },
  {
   "cell_type": "code",
   "execution_count": 3,
   "id": "f8cc7a2e",
   "metadata": {},
   "outputs": [],
   "source": [
    "with open(f'../results/NAIVE/results_agg_temp_new.json') as f:\n",
    "    data_NAIVE = json.load(f)"
   ]
  },
  {
   "cell_type": "code",
   "execution_count": 4,
   "id": "6e421256",
   "metadata": {},
   "outputs": [
    {
     "data": {
      "text/plain": [
       "'Tom Brady, 37, was invited to the White House on Thursday.\\nPresident Barack Obama says he was worried that 11 out of 12 of 12 footballs were under inflated.\\nHe also joked that he wished Chicago could learn something from Boston\\'s championship win.\\nThe Super Bowl MVP and the team\\'s biggest star - Rob Gronkowski, 37 - were in town for the ceremony.\\nBut he didn\\'t attend the ceremony.The Superbowl MVP and star star - Tom Brady, 36, didn\\'t get to attend the event.\\nTom Brady was pictured with President Barack Obama at the White house.\\nBr Brady was also pictured with the President in 2005 and rival Donovan McNabb.\\nObama also received a custom jersey and a custom football from the team.\\nPatriots star - Brady, 41, didn’t attend the Whitehouse ceremony.\\ninc \"\\xa0 -Key Sentence:'"
      ]
     },
     "execution_count": 4,
     "metadata": {},
     "output_type": "execute_result"
    }
   ],
   "source": [
    "data_NAIVE['prediction'][0]['pred']"
   ]
  },
  {
   "cell_type": "code",
   "execution_count": 5,
   "id": "8e6f79c4",
   "metadata": {},
   "outputs": [
    {
     "data": {
      "text/plain": [
       "\"Brady cited 'prior family commitments' in bowing out of meeting with Obama.\\nHas been to the White House to meet President George W. Bush for previous Super Bowl wins.\""
      ]
     },
     "execution_count": 5,
     "metadata": {},
     "output_type": "execute_result"
    }
   ],
   "source": [
    "data_NAIVE['prediction'][0]['label']"
   ]
  },
  {
   "cell_type": "code",
   "execution_count": 6,
   "id": "51df87c6",
   "metadata": {},
   "outputs": [
    {
     "data": {
      "text/plain": [
       "{'rouge1': 0.29766689973067506,\n",
       " 'rouge2': 0.11573642880594928,\n",
       " 'rougeL': 0.19151852364248945,\n",
       " 'rougeLsum': 0.28249732233651165}"
      ]
     },
     "execution_count": 6,
     "metadata": {},
     "output_type": "execute_result"
    }
   ],
   "source": [
    "NAIVE_SUM_rouge = data_NAIVE['metric']['rouge']\n",
    "NAIVE_SUM_rouge"
   ]
  },
  {
   "cell_type": "markdown",
   "id": "b35acf50",
   "metadata": {},
   "source": [
    "## KW\n",
    "2. input: document => output: key words, summary"
   ]
  },
  {
   "cell_type": "code",
   "execution_count": 7,
   "id": "55aa1813",
   "metadata": {},
   "outputs": [],
   "source": [
    "with open(f'../results/KW/results_agg_temp_new.json') as f:\n",
    "    data_KW = json.load(f)"
   ]
  },
  {
   "cell_type": "code",
   "execution_count": 8,
   "id": "59fde5f0",
   "metadata": {},
   "outputs": [
    {
     "data": {
      "text/plain": [
       "['sports commentators,sports commentators,football,sports administration,sports media,sports broadcasting,sports television,sports psychology,sports management,sports medicine,sports social media,social media,football administration,social networking,sports communication,sports marketing,sports personnel,sports fan,sports news,sports psychologist,sports commentator,sports analyst,sports journalist,sports pundits,sports commentary,sports,sports journalists,sports reporters,sports analysts,sports fans,sports officials,sports information,sports gossip,sports science,sports analysis,sports opinion,sports policy,sports research,sports education,sports behavior,sports relations,sports economics,sports law,sports communications,sports networking,social behavior,social psychology,social sciences,sports industry,sports political,sports',\n",
       " \"Tom Brady received custom jersey and a custom football from the team at the White House on Thursday.\\nHe's not going to be there this year.\\nThe New England Patriots were picturedKey Sentence:\"]"
      ]
     },
     "execution_count": 8,
     "metadata": {},
     "output_type": "execute_result"
    }
   ],
   "source": [
    "data_KW['prediction'][0]['pred'].replace('Key Words: ', '').split(\"\\nSummary: \")"
   ]
  },
  {
   "cell_type": "code",
   "execution_count": 9,
   "id": "9fa5b0cb",
   "metadata": {
    "scrolled": false
   },
   "outputs": [
    {
     "data": {
      "text/plain": [
       "['social media,sports medicine,public health,physiology,biomedical research,bioinformatics,cardiology,neurology,neonatology,nephrology',\n",
       " \"Brady cited 'prior family commitments' in bowing out of meeting with Obama.\\nHas been to the White House to meet President George W. Bush for previous Super Bowl wins.\"]"
      ]
     },
     "execution_count": 9,
     "metadata": {},
     "output_type": "execute_result"
    }
   ],
   "source": [
    "data_KW['prediction'][0]['label'].replace('Key Words: ', '').split(\"\\nSummary: \")"
   ]
  },
  {
   "cell_type": "code",
   "execution_count": 10,
   "id": "9298c9e1",
   "metadata": {},
   "outputs": [],
   "source": [
    "KW_KW_pred = []\n",
    "KW_KW_label = []\n",
    "KW_SUM_pred = []\n",
    "KW_SUM_label = []\n",
    "KW_no_summary = []\n",
    "KW_no_summary_error = []\n",
    "\n",
    "data_length = len(data_KW['prediction'])\n",
    "\n",
    "for i in range(data_length):\n",
    "    ex_pred = data_KW['prediction'][i]['pred'].replace('Key Words: ', '').split(\"\\nSummary: \")\n",
    "    ex_label = data_KW['prediction'][i]['label'].replace('Key Words: ', '').split(\"\\nSummary: \")\n",
    "    try:\n",
    "        KW_KW_pred.append(ex_pred[0])\n",
    "        KW_KW_label.append(ex_label[0])\n",
    "        KW_SUM_pred.append(ex_pred[1]) \n",
    "        KW_SUM_label.append(ex_label[1])\n",
    "    except:\n",
    "        try:\n",
    "            KW_KW_pred.append(ex_pred[0])\n",
    "            KW_KW_label.append(ex_label[0])\n",
    "            KW_no_summary.append(i)\n",
    "            # print(f'Prediction {i} Has No Summary.')\n",
    "        except: \n",
    "            KW_no_summary.append(i)\n",
    "            KW_no_summary_error.append(i)\n",
    "            print(f'Prediction {i} Has No Summary & Key Words Error Occured.')"
   ]
  },
  {
   "cell_type": "code",
   "execution_count": 11,
   "id": "aa65e4f9",
   "metadata": {},
   "outputs": [
    {
     "name": "stdout",
     "output_type": "stream",
     "text": [
      "500개 데이터 중 146개 데이터에 요약문이 없습니다.\n"
     ]
    }
   ],
   "source": [
    "KW_pred_length = len(data_KW['prediction'])\n",
    "KW_no_summary_length = len(KW_no_summary)\n",
    "print(f'{KW_pred_length}개 데이터 중 {KW_no_summary_length}개 데이터에 요약문이 없습니다.')"
   ]
  },
  {
   "cell_type": "code",
   "execution_count": 12,
   "id": "5a9d55df",
   "metadata": {},
   "outputs": [
    {
     "data": {
      "text/plain": [
       "True"
      ]
     },
     "execution_count": 12,
     "metadata": {},
     "output_type": "execute_result"
    }
   ],
   "source": [
    "len(KW_KW_pred) == len(KW_KW_label) and len(KW_SUM_pred) == len(KW_SUM_label)"
   ]
  },
  {
   "cell_type": "code",
   "execution_count": 13,
   "id": "2cbe0dd2",
   "metadata": {},
   "outputs": [],
   "source": [
    "rouge = evaluate.load('rouge')"
   ]
  },
  {
   "cell_type": "code",
   "execution_count": 14,
   "id": "7e7c29a1",
   "metadata": {},
   "outputs": [],
   "source": [
    "KW_KW_rouge = rouge.compute(references=KW_KW_label, predictions=KW_KW_pred, use_aggregator=True)\n",
    "KW_SUM_rouge = rouge.compute(references=KW_SUM_label, predictions=KW_SUM_pred, use_aggregator=True)"
   ]
  },
  {
   "cell_type": "code",
   "execution_count": 15,
   "id": "1ac0440a",
   "metadata": {},
   "outputs": [
    {
     "data": {
      "text/plain": [
       "{'rouge1': 0.13051620429624497,\n",
       " 'rouge2': 0.055326316655400984,\n",
       " 'rougeL': 0.10447204026591655,\n",
       " 'rougeLsum': 0.10876921069623696}"
      ]
     },
     "execution_count": 15,
     "metadata": {},
     "output_type": "execute_result"
    }
   ],
   "source": [
    "KW_KW_rouge"
   ]
  },
  {
   "cell_type": "code",
   "execution_count": 16,
   "id": "a3ead7ea",
   "metadata": {},
   "outputs": [
    {
     "data": {
      "text/plain": [
       "{'rouge1': 0.26312032955844566,\n",
       " 'rouge2': 0.09489284290787497,\n",
       " 'rougeL': 0.18729831906349462,\n",
       " 'rougeLsum': 0.24550211010993514}"
      ]
     },
     "execution_count": 16,
     "metadata": {},
     "output_type": "execute_result"
    }
   ],
   "source": [
    "KW_SUM_rouge"
   ]
  },
  {
   "cell_type": "code",
   "execution_count": 17,
   "id": "c2345901",
   "metadata": {},
   "outputs": [],
   "source": [
    "KW_KW_rouge_ex = rouge.compute(references=KW_KW_label, predictions=KW_KW_pred, use_aggregator=False)\n",
    "KW_SUM_rouge_ex = rouge.compute(references=KW_SUM_label, predictions=KW_SUM_pred, use_aggregator=False)"
   ]
  },
  {
   "cell_type": "markdown",
   "id": "e80f55c7",
   "metadata": {},
   "source": [
    "## KS\n",
    "3. input: document => output: key sentenece, summary"
   ]
  },
  {
   "cell_type": "code",
   "execution_count": 18,
   "id": "a0f648a1",
   "metadata": {},
   "outputs": [],
   "source": [
    "with open(f'../results/KS/results_agg_temp_new.json') as f:\n",
    "    data_KS = json.load(f)"
   ]
  },
  {
   "cell_type": "code",
   "execution_count": 19,
   "id": "d4e56ba5",
   "metadata": {},
   "outputs": [
    {
     "data": {
      "text/plain": [
       "[\"President Barack Obama invited the Super Bowl champion New England Patriots to the White House on Thursday - but couldn't help but get one last deflategate joke in.\",\n",
       " \"The president opened his speech on the South Lawn by remarking 'that whole (deflgate) story got blown out of proportion,' referring to an investigation that 11 out of 12 footballs used in the AFC Championship game were under-inflated.\"]"
      ]
     },
     "execution_count": 19,
     "metadata": {},
     "output_type": "execute_result"
    }
   ],
   "source": [
    "data_KS['prediction'][0]['pred'].replace('Key Sentence: ', '').split(\"\\nSummary: \")"
   ]
  },
  {
   "cell_type": "code",
   "execution_count": 20,
   "id": "d6c3d822",
   "metadata": {
    "scrolled": false
   },
   "outputs": [
    {
     "data": {
      "text/plain": [
       "['Brady went to the White House to meet President George W Bush after winning the Super Bowl in 2005 and in 2004.',\n",
       " \"Brady cited 'prior family commitments' in bowing out of meeting with Obama.\\nHas been to the White House to meet President George W. Bush for previous Super Bowl wins.\"]"
      ]
     },
     "execution_count": 20,
     "metadata": {},
     "output_type": "execute_result"
    }
   ],
   "source": [
    "data_KS['prediction'][0]['label'].replace('Key Sentence: ', '').split(\"\\nSummary: \")"
   ]
  },
  {
   "cell_type": "code",
   "execution_count": 21,
   "id": "9a345651",
   "metadata": {},
   "outputs": [],
   "source": [
    "KS_KS_pred = []\n",
    "KS_KS_label = []\n",
    "KS_SUM_pred = []\n",
    "KS_SUM_label = []\n",
    "KS_no_summary = []\n",
    "KS_no_summary_error = []\n",
    "\n",
    "data_length = len(data_KS['prediction'])\n",
    "\n",
    "for i in range(data_length):\n",
    "    ex_pred = data_KS['prediction'][i]['pred'].replace('Key Sentence: ', '').split(\"\\nSummary: \")\n",
    "    ex_label = data_KS['prediction'][i]['label'].replace('Key Sentence: ', '').split(\"\\nSummary: \")\n",
    "    try:\n",
    "        KS_KS_pred.append(ex_pred[0])\n",
    "        KS_KS_label.append(ex_label[0])\n",
    "        KS_SUM_pred.append(ex_pred[1]) \n",
    "        KS_SUM_label.append(ex_label[1])\n",
    "    except:\n",
    "        try :\n",
    "            KS_KS_pred.append(ex_pred[0])\n",
    "            KS_KS_label.append(ex_label[0])\n",
    "            KS_no_summary.append(i)\n",
    "            # print(f'Prediction {i} Has No Summary.')\n",
    "        except: \n",
    "            KS_no_summary.append(i)\n",
    "            KS_no_summary_error.append(i)\n",
    "            print(f'Prediction {i} Has No Summary & Key Sentence Error Occured.')"
   ]
  },
  {
   "cell_type": "code",
   "execution_count": 22,
   "id": "c989682a",
   "metadata": {},
   "outputs": [
    {
     "name": "stdout",
     "output_type": "stream",
     "text": [
      "500개 데이터 중 174개 데이터에 요약문이 없습니다.\n"
     ]
    }
   ],
   "source": [
    "KS_pred_length = len(data_KS['prediction'])\n",
    "KS_no_summary_length = len(KS_no_summary)\n",
    "print(f'{KS_pred_length}개 데이터 중 {KS_no_summary_length}개 데이터에 요약문이 없습니다.')"
   ]
  },
  {
   "cell_type": "code",
   "execution_count": 23,
   "id": "cea4cf99",
   "metadata": {},
   "outputs": [
    {
     "data": {
      "text/plain": [
       "True"
      ]
     },
     "execution_count": 23,
     "metadata": {},
     "output_type": "execute_result"
    }
   ],
   "source": [
    "len(KS_KS_pred) == len(KS_KS_label) and len(KS_SUM_pred) == len(KS_SUM_label)"
   ]
  },
  {
   "cell_type": "code",
   "execution_count": 24,
   "id": "33d70a84",
   "metadata": {},
   "outputs": [],
   "source": [
    "rouge = evaluate.load('rouge')"
   ]
  },
  {
   "cell_type": "code",
   "execution_count": 25,
   "id": "0a32e8ec",
   "metadata": {},
   "outputs": [],
   "source": [
    "KS_KS_rouge = rouge.compute(references=KS_KS_label, predictions=KS_KS_pred, use_aggregator=True)\n",
    "KS_SUM_rouge = rouge.compute(references=KS_SUM_label, predictions=KS_SUM_pred, use_aggregator=True)"
   ]
  },
  {
   "cell_type": "code",
   "execution_count": 26,
   "id": "b761cd16",
   "metadata": {},
   "outputs": [
    {
     "data": {
      "text/plain": [
       "{'rouge1': 0.3460665976893965,\n",
       " 'rouge2': 0.2272930955662881,\n",
       " 'rougeL': 0.30638699468046515,\n",
       " 'rougeLsum': 0.30893421284970307}"
      ]
     },
     "execution_count": 26,
     "metadata": {},
     "output_type": "execute_result"
    }
   ],
   "source": [
    "KS_KS_rouge"
   ]
  },
  {
   "cell_type": "code",
   "execution_count": 27,
   "id": "7b104fb5",
   "metadata": {
    "scrolled": true
   },
   "outputs": [
    {
     "data": {
      "text/plain": [
       "{'rouge1': 0.3009008074606278,\n",
       " 'rouge2': 0.11779500085339398,\n",
       " 'rougeL': 0.22062751833798439,\n",
       " 'rougeLsum': 0.2661031298347436}"
      ]
     },
     "execution_count": 27,
     "metadata": {},
     "output_type": "execute_result"
    }
   ],
   "source": [
    "KS_SUM_rouge"
   ]
  },
  {
   "cell_type": "code",
   "execution_count": 28,
   "id": "0170202e",
   "metadata": {},
   "outputs": [],
   "source": [
    "KS_KS_rouge_ex = rouge.compute(references=KS_KS_label, predictions=KS_KS_pred, use_aggregator=False)\n",
    "KS_SUM_rouge_ex = rouge.compute(references=KS_SUM_label, predictions=KS_SUM_pred, use_aggregator=False)"
   ]
  },
  {
   "cell_type": "markdown",
   "id": "98484398",
   "metadata": {},
   "source": [
    "## KWKS\n",
    "4. input: document => ouptut: key words, key sentence, summary"
   ]
  },
  {
   "cell_type": "code",
   "execution_count": 29,
   "id": "badecfb6",
   "metadata": {},
   "outputs": [],
   "source": [
    "with open(f'../results/KWKS/results_agg_temp_new.json') as f:\n",
    "    data_KWKS = json.load(f)"
   ]
  },
  {
   "cell_type": "code",
   "execution_count": 30,
   "id": "061663ac",
   "metadata": {},
   "outputs": [
    {
     "name": "stdout",
     "output_type": "stream",
     "text": [
      "social media,sports medicine,public health,emergency medical services,human factors,ergonomics,occupational safety,suicide prevention,injury prevention,sports communication,sports \n",
      " The president opened his speech on the South Lawn by remarking 'that whole (deflategate) story got blown out of proportion,' referring to an investigation that 11 out of 12 footballs used in the AFC Championship game were under-inflated. \n",
      " President Barack Obama hails the high-profile Super Bowl celebrity celebrities.\n",
      "He also hit out at former Massachusetts Senator and New England Patriots owner Bob Kraft.\n",
      "Obama also hits out at Bill Belichick for giving the thumbs down.\n"
     ]
    }
   ],
   "source": [
    "temp = data_KWKS['prediction'][0]['pred'].replace('Key Words: ', '')\n",
    "KW_KS_border = temp.find('\\nKey Sentence: ')\n",
    "KS_SUM_border = temp.find('\\nSummary: ')\n",
    "print(temp[:KW_KS_border].strip(),'\\n', \n",
    "      temp[KW_KS_border+len('\\nKey Sentence: '):KS_SUM_border].strip(), '\\n', \n",
    "      temp[KS_SUM_border+len('\\nSummary: '):].strip())"
   ]
  },
  {
   "cell_type": "code",
   "execution_count": 31,
   "id": "984923bc",
   "metadata": {},
   "outputs": [],
   "source": [
    "KWKS_KW_pred = []\n",
    "KWKS_KW_label = []\n",
    "KWKS_KS_pred = []\n",
    "KWKS_KS_label = []\n",
    "KWKS_SUM_pred = []\n",
    "KWKS_SUM_label = []\n",
    "KWKS_no_summary = []\n",
    "\n",
    "data_length = len(data_KWKS['prediction'])\n",
    "\n",
    "for i in range(data_length):\n",
    "    ex_pred = data_KWKS['prediction'][i]['pred'].replace('Key Words: ', '')\n",
    "    ex_label = data_KWKS['prediction'][i]['label'].replace('Key Words: ', '')\n",
    "    \n",
    "    KW_KS_border_pred = ex_pred.find('\\nKey Sentence: ')\n",
    "    KS_SUM_border_pred = ex_pred.find('\\nSummary: ')\n",
    "\n",
    "    KW_KS_border_label = ex_label.find('\\nKey Sentence: ')\n",
    "    KS_SUM_border_label = ex_label.find('\\nSummary: ')\n",
    "    \n",
    "    KWKS_KW_pred.append(ex_pred[:KW_KS_border_pred].strip())\n",
    "    KWKS_KW_label.append(ex_label[:KW_KS_border_label].strip())\n",
    "\n",
    "    KWKS_KS_pred.append(ex_pred[KW_KS_border_pred+len('\\nKey Sentence: '):KS_SUM_border_pred].strip())\n",
    "    KWKS_KS_label.append(ex_label[KW_KS_border_label+len('\\nKey Sentence: '):KS_SUM_border_label].strip())\n",
    "\n",
    "    # KWKS_SUM_pred.append(ex_pred[KS_SUM_border_pred+len('\\nSummary: '):].strip())\n",
    "    # KWKS_SUM_label.append(ex_label[KS_SUM_border_label+len('\\nSummary: '):].strip())\n",
    "    if \"\\nSummary\" in ex_pred:\n",
    "        KWKS_SUM_label.append(ex_label.split(\"\\nSummary: \")[-1])\n",
    "        KWKS_SUM_pred.append(ex_pred.split(\"\\nSummary: \")[-1])"
   ]
  },
  {
   "cell_type": "code",
   "execution_count": 32,
   "id": "ae840b03",
   "metadata": {},
   "outputs": [
    {
     "name": "stdout",
     "output_type": "stream",
     "text": [
      "Brady cited 'prior family commitments' in bowing out of meeting with Obama.\n",
      "Has been to the White House to meet\n",
      "Reports emerged on social media  suggesting Mike Ashley was now the official owner\n",
      "terrorism,human factors,occupational safety,injury prevention,ergonomics,terrorism,suicide prevention,humanitarian aid,terrorism.human factors.terrorism. al-Qaeda.\n",
      "Key Sentence: A federal grand jury in California indicted Gadahn in 2006 for treason and material support to al Qaeda, charges related to his alleged involvement in terrorist activities that included \"providing aid and comfort\" and other services to al Qaeda, the FBI said.\n",
      "Summary:\n",
      "John Barnes appeared as a guest on Sky's A League Of Their Own show.\n",
      "The 51-year-old rapped 1979\n",
      "John Higgins beats Robert Milkins 10-5 to reach second round.\n",
      "Higgins says he would love to challenge for World title again.\n",
      "But the 39-year-old admits there are many more\n",
      "Arsenal face Aston Villa in the FA Cup final at Wembley\n",
      "Coutinho hit the only goal of the game as Liverpool beat Blackburn.\n",
      "They will meet Aston Villa in the semi-finals\n",
      "Members of 30 rock band members merged into one face each.\n",
      "Beatles look like Paul McCartney, Nirvana look like Kurt Cobain.\n",
      "U2, Rolling Stones\n",
      "Heart-broken Tony Tancock, 56, has won prizes for\n",
      "It has been eight years\n"
     ]
    }
   ],
   "source": [
    "for summary  in KWKS_SUM_label[:10]:\n",
    "    print(summary)"
   ]
  },
  {
   "cell_type": "code",
   "execution_count": 33,
   "id": "fe8c71cd",
   "metadata": {},
   "outputs": [
    {
     "name": "stdout",
     "output_type": "stream",
     "text": [
      "President Barack Obama hails the high-profile Super Bowl celebrity celebrities.\n",
      "He also hit out at former Massachusetts Senator and New England Patriots owner Bob Kraft.\n",
      "Obama also hits out at Bill Belichick for giving the thumbs down.\n",
      "Reports emerged on social media suggest Mike Ashley has grabbed control of the club's badges.\n",
      "Reports emerged that the Newcastle  owner was now the official owner of the Light Blues trademark.\n",
      "Rangers have promised to conduct a speedy investigation into the claims.\n",
      "NEW: Adam Gadahn, 36, was killed in January by al Qaeda in Pakistan.\n",
      "He was the prime suspect in the 9/11 attacks, White House says.\n",
      "His father says Gadahn was one of its most prominent members.\n",
      "John Barnes and Jamie Redknapp performed Rapper's Delight - a spoof sketch called Britain's Got Sporting Talent.\n",
      "The pair were joined by backing dancers and were 'dressed in a black hoodie and jeans'\n",
      "Redknapp was equally adept on the mic as the pair entertained the audience.\n",
      "The John Higgins took the Betfred World Championship with a 10-5 win over Robert Milkins.\n",
      "H Higgins was the 10-8 winner earlier in the tournament.\n",
      "The Welsh Open title was his first of his career and his fifth World title.\n",
      "Arsenal face Aston Villa in the FA Cup final on May 30.\n",
      "Tim Sherwood's Villa side won the coin toss ahead of the game.\n",
      "Arsenal will play in their yellow and blue away strip for the first time in five years.\n",
      "It is the first pre-match game for Arsene Wenger's side since finishing 10th in the Premier League.\n",
      "Philippe Coutinho scored the only goal of the game as Liverpool progressed to the FA Cup semi-finals.\n",
      "Liverpool captain provided the 70th-minute assist for the Reds.\n",
      "Henderson had not slept the night before the game.\n",
      "Brendan Rodgers said he had 'no idea' he was missing the game and was 'busted' by his wife.\n",
      "The faces of 30 legendary rock bands are blended into 30 single faces.\n",
      "Some of the faces are more distinctive than those of the Beatles.\n",
      "The Rolling Stones, Led Zeppelin and Black Sabbath all feature.\n",
      "Tony Tancock believes only an expert could have targetted the dozen show-quality guinea pigs.\n",
      "He believes a competitor could have targeted them.\n",
      "Police say they are investigating the theft and urge anyone with information to contact them.\n",
      "Wasps claimed the Heineken Cup in 2007 with victory over Leicester.\n",
      "It was unthinkable the Premiership would not produce another continental champion for so long.\n",
      "But the Aviva Premiership quartet are all away from home this weekend.\n",
      "George Ford runs with the ball during the training session.\n",
      "Toulon are also the club's primary challengers, with Clermont their primary challengers.\n"
     ]
    }
   ],
   "source": [
    "for summary  in KWKS_SUM_pred[:10]:\n",
    "    print(summary)"
   ]
  },
  {
   "cell_type": "code",
   "execution_count": 34,
   "id": "a5eaaf7a",
   "metadata": {},
   "outputs": [
    {
     "data": {
      "text/plain": [
       "True"
      ]
     },
     "execution_count": 34,
     "metadata": {},
     "output_type": "execute_result"
    }
   ],
   "source": [
    "len(KWKS_KW_pred) == len(KWKS_KW_label) and len(KWKS_KS_pred) == len(KWKS_KS_label) and len(KWKS_SUM_pred) == len(KWKS_SUM_label)"
   ]
  },
  {
   "cell_type": "code",
   "execution_count": 35,
   "id": "24c85bc6",
   "metadata": {},
   "outputs": [],
   "source": [
    "rouge = evaluate.load('rouge')"
   ]
  },
  {
   "cell_type": "code",
   "execution_count": 36,
   "id": "50bb7f63",
   "metadata": {},
   "outputs": [],
   "source": [
    "KWKS_KW_rouge = rouge.compute(references=KWKS_KW_label, predictions=KWKS_KW_pred, use_aggregator=True)\n",
    "KWKS_KS_rouge = rouge.compute(references=KWKS_KS_label, predictions=KWKS_KS_pred, use_aggregator=True)\n",
    "KWKS_SUM_rouge = rouge.compute(references=KWKS_SUM_label, predictions=KWKS_SUM_pred, use_aggregator=True)"
   ]
  },
  {
   "cell_type": "code",
   "execution_count": 40,
   "id": "b628a6ff",
   "metadata": {},
   "outputs": [],
   "source": [
    "KWKS_KW_rouge_ex = rouge.compute(references=KWKS_KW_label, predictions=KWKS_KW_pred, use_aggregator=False)\n",
    "KWKS_KS_rouge_ex = rouge.compute(references=KWKS_KS_label, predictions=KWKS_KS_pred, use_aggregator=False)\n",
    "KWKS_SUM_rouge_ex = rouge.compute(references=KWKS_SUM_label, predictions=KWKS_SUM_pred, use_aggregator=False)"
   ]
  },
  {
   "cell_type": "markdown",
   "id": "272ddd47",
   "metadata": {},
   "source": [
    "## Evaluation Result"
   ]
  },
  {
   "cell_type": "code",
   "execution_count": 41,
   "id": "6e1f1dbc",
   "metadata": {},
   "outputs": [],
   "source": [
    "import pandas as pd"
   ]
  },
  {
   "cell_type": "code",
   "execution_count": 42,
   "id": "4d4ecee4",
   "metadata": {},
   "outputs": [
    {
     "data": {
      "text/html": [
       "<div>\n",
       "<style scoped>\n",
       "    .dataframe tbody tr th:only-of-type {\n",
       "        vertical-align: middle;\n",
       "    }\n",
       "\n",
       "    .dataframe tbody tr th {\n",
       "        vertical-align: top;\n",
       "    }\n",
       "\n",
       "    .dataframe thead th {\n",
       "        text-align: right;\n",
       "    }\n",
       "</style>\n",
       "<table border=\"1\" class=\"dataframe\">\n",
       "  <thead>\n",
       "    <tr style=\"text-align: right;\">\n",
       "      <th></th>\n",
       "      <th>NAIVE_SUM</th>\n",
       "      <th>KW_KW</th>\n",
       "      <th>KW_SUM</th>\n",
       "      <th>KS_KS</th>\n",
       "      <th>KS_SUM</th>\n",
       "      <th>KWKS_KW</th>\n",
       "      <th>KWKS_KS</th>\n",
       "      <th>KWKS_SUM</th>\n",
       "    </tr>\n",
       "  </thead>\n",
       "  <tbody>\n",
       "    <tr>\n",
       "      <th>rouge1</th>\n",
       "      <td>0.297667</td>\n",
       "      <td>0.130516</td>\n",
       "      <td>0.263120</td>\n",
       "      <td>0.346067</td>\n",
       "      <td>0.300901</td>\n",
       "      <td>0.345929</td>\n",
       "      <td>0.280373</td>\n",
       "      <td>0.210458</td>\n",
       "    </tr>\n",
       "    <tr>\n",
       "      <th>rouge2</th>\n",
       "      <td>0.115736</td>\n",
       "      <td>0.055326</td>\n",
       "      <td>0.094893</td>\n",
       "      <td>0.227293</td>\n",
       "      <td>0.117795</td>\n",
       "      <td>0.205009</td>\n",
       "      <td>0.146518</td>\n",
       "      <td>0.078380</td>\n",
       "    </tr>\n",
       "    <tr>\n",
       "      <th>rougeL</th>\n",
       "      <td>0.191519</td>\n",
       "      <td>0.104472</td>\n",
       "      <td>0.187298</td>\n",
       "      <td>0.306387</td>\n",
       "      <td>0.220628</td>\n",
       "      <td>0.284733</td>\n",
       "      <td>0.238454</td>\n",
       "      <td>0.161458</td>\n",
       "    </tr>\n",
       "    <tr>\n",
       "      <th>rougeLsum</th>\n",
       "      <td>0.282497</td>\n",
       "      <td>0.108769</td>\n",
       "      <td>0.245502</td>\n",
       "      <td>0.308934</td>\n",
       "      <td>0.266103</td>\n",
       "      <td>0.284677</td>\n",
       "      <td>0.237766</td>\n",
       "      <td>0.194101</td>\n",
       "    </tr>\n",
       "  </tbody>\n",
       "</table>\n",
       "</div>"
      ],
      "text/plain": [
       "           NAIVE_SUM     KW_KW    KW_SUM     KS_KS    KS_SUM   KWKS_KW  \\\n",
       "rouge1      0.297667  0.130516  0.263120  0.346067  0.300901  0.345929   \n",
       "rouge2      0.115736  0.055326  0.094893  0.227293  0.117795  0.205009   \n",
       "rougeL      0.191519  0.104472  0.187298  0.306387  0.220628  0.284733   \n",
       "rougeLsum   0.282497  0.108769  0.245502  0.308934  0.266103  0.284677   \n",
       "\n",
       "            KWKS_KS  KWKS_SUM  \n",
       "rouge1     0.280373  0.210458  \n",
       "rouge2     0.146518  0.078380  \n",
       "rougeL     0.238454  0.161458  \n",
       "rougeLsum  0.237766  0.194101  "
      ]
     },
     "execution_count": 42,
     "metadata": {},
     "output_type": "execute_result"
    }
   ],
   "source": [
    "pd.DataFrame({'NAIVE_SUM' : NAIVE_SUM_rouge,\n",
    "             'KW_KW' : KW_KW_rouge, \n",
    "             'KW_SUM' : KW_SUM_rouge, \n",
    "             'KS_KS' : KS_KS_rouge,\n",
    "             'KS_SUM' : KS_SUM_rouge, \n",
    "             'KWKS_KW' : KWKS_KW_rouge, \n",
    "             'KWKS_KS' : KWKS_KS_rouge, \n",
    "             'KWKS_SUM' : KWKS_SUM_rouge})"
   ]
  },
  {
   "cell_type": "code",
   "execution_count": 43,
   "id": "1731fcd0",
   "metadata": {},
   "outputs": [
    {
     "data": {
      "text/html": [
       "<div>\n",
       "<style scoped>\n",
       "    .dataframe tbody tr th:only-of-type {\n",
       "        vertical-align: middle;\n",
       "    }\n",
       "\n",
       "    .dataframe tbody tr th {\n",
       "        vertical-align: top;\n",
       "    }\n",
       "\n",
       "    .dataframe thead th {\n",
       "        text-align: right;\n",
       "    }\n",
       "</style>\n",
       "<table border=\"1\" class=\"dataframe\">\n",
       "  <thead>\n",
       "    <tr style=\"text-align: right;\">\n",
       "      <th></th>\n",
       "      <th>NAIVE_SUM</th>\n",
       "      <th>KW_SUM</th>\n",
       "      <th>KS_SUM</th>\n",
       "      <th>KWKS_SUM</th>\n",
       "    </tr>\n",
       "  </thead>\n",
       "  <tbody>\n",
       "    <tr>\n",
       "      <th>rouge1</th>\n",
       "      <td>0.297667</td>\n",
       "      <td>0.263120</td>\n",
       "      <td>0.300901</td>\n",
       "      <td>0.210458</td>\n",
       "    </tr>\n",
       "    <tr>\n",
       "      <th>rouge2</th>\n",
       "      <td>0.115736</td>\n",
       "      <td>0.094893</td>\n",
       "      <td>0.117795</td>\n",
       "      <td>0.078380</td>\n",
       "    </tr>\n",
       "    <tr>\n",
       "      <th>rougeL</th>\n",
       "      <td>0.191519</td>\n",
       "      <td>0.187298</td>\n",
       "      <td>0.220628</td>\n",
       "      <td>0.161458</td>\n",
       "    </tr>\n",
       "    <tr>\n",
       "      <th>rougeLsum</th>\n",
       "      <td>0.282497</td>\n",
       "      <td>0.245502</td>\n",
       "      <td>0.266103</td>\n",
       "      <td>0.194101</td>\n",
       "    </tr>\n",
       "  </tbody>\n",
       "</table>\n",
       "</div>"
      ],
      "text/plain": [
       "           NAIVE_SUM    KW_SUM    KS_SUM  KWKS_SUM\n",
       "rouge1      0.297667  0.263120  0.300901  0.210458\n",
       "rouge2      0.115736  0.094893  0.117795  0.078380\n",
       "rougeL      0.191519  0.187298  0.220628  0.161458\n",
       "rougeLsum   0.282497  0.245502  0.266103  0.194101"
      ]
     },
     "execution_count": 43,
     "metadata": {},
     "output_type": "execute_result"
    }
   ],
   "source": [
    "pd.DataFrame({'NAIVE_SUM' : NAIVE_SUM_rouge,\n",
    "             'KW_SUM' : KW_SUM_rouge, \n",
    "             'KS_SUM' : KS_SUM_rouge, \n",
    "             'KWKS_SUM' : KWKS_SUM_rouge})"
   ]
  },
  {
   "cell_type": "code",
   "execution_count": null,
   "id": "b09a3af8",
   "metadata": {},
   "outputs": [],
   "source": []
  },
  {
   "cell_type": "code",
   "execution_count": null,
   "id": "19d3d0b1",
   "metadata": {},
   "outputs": [],
   "source": []
  }
 ],
 "metadata": {
  "kernelspec": {
   "display_name": "Python 3 (ipykernel)",
   "language": "python",
   "name": "python3"
  },
  "language_info": {
   "codemirror_mode": {
    "name": "ipython",
    "version": 3
   },
   "file_extension": ".py",
   "mimetype": "text/x-python",
   "name": "python",
   "nbconvert_exporter": "python",
   "pygments_lexer": "ipython3",
   "version": "3.10.7"
  },
  "vscode": {
   "interpreter": {
    "hash": "76178a331502487e1be24c0f25a5c8eb6bdf3ef643fd0096625f656ddc79f393"
   }
  }
 },
 "nbformat": 4,
 "nbformat_minor": 5
}
